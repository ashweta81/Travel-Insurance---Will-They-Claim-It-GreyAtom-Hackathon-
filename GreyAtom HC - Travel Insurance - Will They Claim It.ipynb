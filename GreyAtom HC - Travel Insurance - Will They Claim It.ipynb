{
 "cells": [
  {
   "cell_type": "markdown",
   "metadata": {},
   "source": [
    "# GreyAtom Hackathon - Travel Insurance (Will they Claim it?)"
   ]
  },
  {
   "cell_type": "markdown",
   "metadata": {},
   "source": [
    "Insurance companies take risks over customers. Risk management is a very important aspect of the insurance industry. Insurers consider every quantifiable factor to develop profiles of high and low insurance risks. Insurers collect vast amounts of information about policyholders and analyze the data. \n",
    "As a Data scientist in an insurance company, you need to analyze the available data and predict whether to sanction the insurance or not.\n"
   ]
  },
  {
   "cell_type": "code",
   "execution_count": 1,
   "metadata": {},
   "outputs": [],
   "source": [
    "# Load Packages"
   ]
  },
  {
   "cell_type": "code",
   "execution_count": 2,
   "metadata": {},
   "outputs": [
    {
     "name": "stderr",
     "output_type": "stream",
     "text": [
      "C:\\Users\\shweta\\Anaconda3\\lib\\site-packages\\sklearn\\externals\\six.py:31: FutureWarning: The module is deprecated in version 0.21 and will be removed in version 0.23 since we've dropped support for Python 2.7. Please rely on the official version of six (https://pypi.org/project/six/).\n",
      "  \"(https://pypi.org/project/six/).\", FutureWarning)\n",
      "C:\\Users\\shweta\\Anaconda3\\lib\\site-packages\\sklearn\\utils\\deprecation.py:144: FutureWarning: The sklearn.neighbors.base module is  deprecated in version 0.22 and will be removed in version 0.24. The corresponding classes / functions should instead be imported from sklearn.neighbors. Anything that cannot be imported from sklearn.neighbors is now part of the private API.\n",
      "  warnings.warn(message, FutureWarning)\n"
     ]
    }
   ],
   "source": [
    "import pandas as pd\n",
    "import numpy as np\n",
    "import seaborn as sns\n",
    "import matplotlib.pyplot as plt\n",
    "from scipy import stats\n",
    "from scipy.stats import chi2_contingency\n",
    "from scipy.stats import chi2\n",
    "from scipy.stats import ttest_ind\n",
    "from sklearn.preprocessing import LabelEncoder\n",
    "from sklearn.preprocessing import MinMaxScaler\n",
    "from sklearn.preprocessing import StandardScaler\n",
    "from sklearn.model_selection import train_test_split\n",
    "from sklearn.ensemble import RandomForestClassifier\n",
    "from sklearn.metrics import roc_auc_score\n",
    "from sklearn.metrics import confusion_matrix\n",
    "from sklearn.ensemble import GradientBoostingClassifier\n",
    "from sklearn.metrics import confusion_matrix\n",
    "from sklearn.metrics import classification_report \n",
    "from xgboost import XGBClassifier\n",
    "from sklearn.tree import DecisionTreeClassifier\n",
    "from imblearn.over_sampling import SMOTE\n",
    "from sklearn.model_selection import GridSearchCV\n",
    "from sklearn.model_selection import RandomizedSearchCV\n",
    "import warnings\n",
    "warnings.filterwarnings(\"ignore\")\n",
    "from sklearn.metrics import accuracy_score"
   ]
  },
  {
   "cell_type": "markdown",
   "metadata": {},
   "source": [
    "# Inspect the Data"
   ]
  },
  {
   "cell_type": "code",
   "execution_count": 3,
   "metadata": {},
   "outputs": [],
   "source": [
    "# Load the training data\n",
    "train = pd.read_csv('train.csv')\n",
    "test = pd.read_csv('test.csv')"
   ]
  },
  {
   "cell_type": "code",
   "execution_count": 4,
   "metadata": {},
   "outputs": [
    {
     "name": "stdout",
     "output_type": "stream",
     "text": [
      "(52310, 11)\n",
      "<class 'pandas.core.frame.DataFrame'>\n",
      "RangeIndex: 52310 entries, 0 to 52309\n",
      "Data columns (total 11 columns):\n",
      "ID                      52310 non-null int64\n",
      "Agency                  52310 non-null object\n",
      "Agency Type             52310 non-null object\n",
      "Distribution Channel    52310 non-null object\n",
      "Product Name            52310 non-null object\n",
      "Duration                52310 non-null int64\n",
      "Destination             52310 non-null object\n",
      "Net Sales               52310 non-null float64\n",
      "Commision (in value)    52310 non-null float64\n",
      "Age                     52310 non-null int64\n",
      "Claim                   52310 non-null int64\n",
      "dtypes: float64(2), int64(4), object(5)\n",
      "memory usage: 4.4+ MB\n",
      "None\n"
     ]
    }
   ],
   "source": [
    "# Look at the shape of the data. There are 11 variables and 52,310 rows. \n",
    "print(train.shape)\n",
    "print(train.info())"
   ]
  },
  {
   "cell_type": "code",
   "execution_count": 5,
   "metadata": {},
   "outputs": [],
   "source": [
    "# Change the datatype of the Target Variable\n",
    "train['Claim'] = train['Claim'].astype('category')"
   ]
  },
  {
   "cell_type": "code",
   "execution_count": 6,
   "metadata": {},
   "outputs": [
    {
     "data": {
      "text/html": [
       "<div>\n",
       "<style scoped>\n",
       "    .dataframe tbody tr th:only-of-type {\n",
       "        vertical-align: middle;\n",
       "    }\n",
       "\n",
       "    .dataframe tbody tr th {\n",
       "        vertical-align: top;\n",
       "    }\n",
       "\n",
       "    .dataframe thead th {\n",
       "        text-align: right;\n",
       "    }\n",
       "</style>\n",
       "<table border=\"1\" class=\"dataframe\">\n",
       "  <thead>\n",
       "    <tr style=\"text-align: right;\">\n",
       "      <th></th>\n",
       "      <th>ID</th>\n",
       "      <th>Agency</th>\n",
       "      <th>Agency Type</th>\n",
       "      <th>Distribution Channel</th>\n",
       "      <th>Product Name</th>\n",
       "      <th>Duration</th>\n",
       "      <th>Destination</th>\n",
       "      <th>Net Sales</th>\n",
       "      <th>Commision (in value)</th>\n",
       "      <th>Age</th>\n",
       "      <th>Claim</th>\n",
       "    </tr>\n",
       "  </thead>\n",
       "  <tbody>\n",
       "    <tr>\n",
       "      <th>0</th>\n",
       "      <td>2010</td>\n",
       "      <td>EPX</td>\n",
       "      <td>Travel Agency</td>\n",
       "      <td>Online</td>\n",
       "      <td>Cancellation Plan</td>\n",
       "      <td>61</td>\n",
       "      <td>PHILIPPINES</td>\n",
       "      <td>12.0</td>\n",
       "      <td>0.00</td>\n",
       "      <td>41</td>\n",
       "      <td>0</td>\n",
       "    </tr>\n",
       "    <tr>\n",
       "      <th>1</th>\n",
       "      <td>4245</td>\n",
       "      <td>EPX</td>\n",
       "      <td>Travel Agency</td>\n",
       "      <td>Online</td>\n",
       "      <td>Cancellation Plan</td>\n",
       "      <td>4</td>\n",
       "      <td>MALAYSIA</td>\n",
       "      <td>17.0</td>\n",
       "      <td>0.00</td>\n",
       "      <td>35</td>\n",
       "      <td>0</td>\n",
       "    </tr>\n",
       "    <tr>\n",
       "      <th>2</th>\n",
       "      <td>9251</td>\n",
       "      <td>CWT</td>\n",
       "      <td>Travel Agency</td>\n",
       "      <td>Online</td>\n",
       "      <td>Rental Vehicle Excess Insurance</td>\n",
       "      <td>26</td>\n",
       "      <td>THAILAND</td>\n",
       "      <td>19.8</td>\n",
       "      <td>11.88</td>\n",
       "      <td>47</td>\n",
       "      <td>0</td>\n",
       "    </tr>\n",
       "    <tr>\n",
       "      <th>3</th>\n",
       "      <td>4754</td>\n",
       "      <td>EPX</td>\n",
       "      <td>Travel Agency</td>\n",
       "      <td>Online</td>\n",
       "      <td>2 way Comprehensive Plan</td>\n",
       "      <td>15</td>\n",
       "      <td>HONG KONG</td>\n",
       "      <td>27.0</td>\n",
       "      <td>0.00</td>\n",
       "      <td>48</td>\n",
       "      <td>0</td>\n",
       "    </tr>\n",
       "  </tbody>\n",
       "</table>\n",
       "</div>"
      ],
      "text/plain": [
       "     ID Agency    Agency Type Distribution Channel  \\\n",
       "0  2010    EPX  Travel Agency               Online   \n",
       "1  4245    EPX  Travel Agency               Online   \n",
       "2  9251    CWT  Travel Agency               Online   \n",
       "3  4754    EPX  Travel Agency               Online   \n",
       "\n",
       "                      Product Name  Duration  Destination  Net Sales  \\\n",
       "0                Cancellation Plan        61  PHILIPPINES       12.0   \n",
       "1                Cancellation Plan         4     MALAYSIA       17.0   \n",
       "2  Rental Vehicle Excess Insurance        26     THAILAND       19.8   \n",
       "3         2 way Comprehensive Plan        15    HONG KONG       27.0   \n",
       "\n",
       "   Commision (in value)  Age Claim  \n",
       "0                  0.00   41     0  \n",
       "1                  0.00   35     0  \n",
       "2                 11.88   47     0  \n",
       "3                  0.00   48     0  "
      ]
     },
     "execution_count": 6,
     "metadata": {},
     "output_type": "execute_result"
    }
   ],
   "source": [
    "train.head(4)"
   ]
  },
  {
   "cell_type": "markdown",
   "metadata": {},
   "source": [
    "# EXPLORATORY DATA ANALYSIS"
   ]
  },
  {
   "cell_type": "code",
   "execution_count": 7,
   "metadata": {},
   "outputs": [
    {
     "name": "stdout",
     "output_type": "stream",
     "text": [
      "The Null Values in Training Dataset are\n",
      "ID                      0\n",
      "Agency                  0\n",
      "Agency Type             0\n",
      "Distribution Channel    0\n",
      "Product Name            0\n",
      "Duration                0\n",
      "Destination             0\n",
      "Net Sales               0\n",
      "Commision (in value)    0\n",
      "Age                     0\n",
      "Claim                   0\n",
      "dtype: int64\n",
      "\n",
      "The Null Values in Testing Dataset are\n",
      "ID                      0\n",
      "Agency                  0\n",
      "Agency Type             0\n",
      "Distribution Channel    0\n",
      "Product Name            0\n",
      "Duration                0\n",
      "Destination             0\n",
      "Net Sales               0\n",
      "Commision (in value)    0\n",
      "Age                     0\n",
      "dtype: int64\n"
     ]
    }
   ],
   "source": [
    "# Lets check for the missing values in both the data sets.\n",
    "print('The Null Values in Training Dataset are')\n",
    "print(train.isnull().sum())\n",
    "print('')\n",
    "print('The Null Values in Testing Dataset are')\n",
    "print(test.isnull().sum())"
   ]
  },
  {
   "cell_type": "markdown",
   "metadata": {},
   "source": [
    "We can see that there are no null values in both the data sets."
   ]
  },
  {
   "cell_type": "code",
   "execution_count": 8,
   "metadata": {},
   "outputs": [
    {
     "name": "stdout",
     "output_type": "stream",
     "text": [
      "The shape of the training dataset is (52310, 10)\n",
      "The shape of the testing dataset is (22421, 9)\n"
     ]
    }
   ],
   "source": [
    "# We can remove the ID column as it does not add value\n",
    "# Drop from the Training dataset\n",
    "train.drop(['ID'], axis=1, inplace=True)\n",
    "# Drop from the Training dataset\n",
    "test.drop(['ID'], axis=1, inplace=True)\n",
    "print('The shape of the training dataset is',train.shape)\n",
    "print('The shape of the testing dataset is', test.shape)"
   ]
  },
  {
   "cell_type": "code",
   "execution_count": 9,
   "metadata": {},
   "outputs": [],
   "source": [
    "# Rename the commission variable\n",
    "train.rename(columns = {'Commision (in value)':'Commission'}, inplace = True)\n",
    "test.rename(columns={'Commision (in value)':'Commission'}, inplace = True)"
   ]
  },
  {
   "cell_type": "code",
   "execution_count": 10,
   "metadata": {},
   "outputs": [
    {
     "name": "stdout",
     "output_type": "stream",
     "text": [
      "Summary Statistics of Variables\n"
     ]
    },
    {
     "data": {
      "text/html": [
       "<div>\n",
       "<style scoped>\n",
       "    .dataframe tbody tr th:only-of-type {\n",
       "        vertical-align: middle;\n",
       "    }\n",
       "\n",
       "    .dataframe tbody tr th {\n",
       "        vertical-align: top;\n",
       "    }\n",
       "\n",
       "    .dataframe thead th {\n",
       "        text-align: right;\n",
       "    }\n",
       "</style>\n",
       "<table border=\"1\" class=\"dataframe\">\n",
       "  <thead>\n",
       "    <tr style=\"text-align: right;\">\n",
       "      <th></th>\n",
       "      <th>Agency</th>\n",
       "      <th>Agency Type</th>\n",
       "      <th>Distribution Channel</th>\n",
       "      <th>Product Name</th>\n",
       "      <th>Duration</th>\n",
       "      <th>Destination</th>\n",
       "      <th>Net Sales</th>\n",
       "      <th>Commission</th>\n",
       "      <th>Age</th>\n",
       "      <th>Claim</th>\n",
       "    </tr>\n",
       "  </thead>\n",
       "  <tbody>\n",
       "    <tr>\n",
       "      <th>count</th>\n",
       "      <td>52310</td>\n",
       "      <td>52310</td>\n",
       "      <td>52310</td>\n",
       "      <td>52310</td>\n",
       "      <td>52310.000000</td>\n",
       "      <td>52310</td>\n",
       "      <td>52310.000000</td>\n",
       "      <td>52310.000000</td>\n",
       "      <td>52310.000000</td>\n",
       "      <td>52310.0</td>\n",
       "    </tr>\n",
       "    <tr>\n",
       "      <th>unique</th>\n",
       "      <td>16</td>\n",
       "      <td>2</td>\n",
       "      <td>2</td>\n",
       "      <td>25</td>\n",
       "      <td>NaN</td>\n",
       "      <td>97</td>\n",
       "      <td>NaN</td>\n",
       "      <td>NaN</td>\n",
       "      <td>NaN</td>\n",
       "      <td>2.0</td>\n",
       "    </tr>\n",
       "    <tr>\n",
       "      <th>top</th>\n",
       "      <td>EPX</td>\n",
       "      <td>Travel Agency</td>\n",
       "      <td>Online</td>\n",
       "      <td>Cancellation Plan</td>\n",
       "      <td>NaN</td>\n",
       "      <td>SINGAPORE</td>\n",
       "      <td>NaN</td>\n",
       "      <td>NaN</td>\n",
       "      <td>NaN</td>\n",
       "      <td>0.0</td>\n",
       "    </tr>\n",
       "    <tr>\n",
       "      <th>freq</th>\n",
       "      <td>26218</td>\n",
       "      <td>34996</td>\n",
       "      <td>51419</td>\n",
       "      <td>13254</td>\n",
       "      <td>NaN</td>\n",
       "      <td>14242</td>\n",
       "      <td>NaN</td>\n",
       "      <td>NaN</td>\n",
       "      <td>NaN</td>\n",
       "      <td>43590.0</td>\n",
       "    </tr>\n",
       "    <tr>\n",
       "      <th>mean</th>\n",
       "      <td>NaN</td>\n",
       "      <td>NaN</td>\n",
       "      <td>NaN</td>\n",
       "      <td>NaN</td>\n",
       "      <td>58.256108</td>\n",
       "      <td>NaN</td>\n",
       "      <td>48.554673</td>\n",
       "      <td>12.219963</td>\n",
       "      <td>39.555725</td>\n",
       "      <td>NaN</td>\n",
       "    </tr>\n",
       "    <tr>\n",
       "      <th>std</th>\n",
       "      <td>NaN</td>\n",
       "      <td>NaN</td>\n",
       "      <td>NaN</td>\n",
       "      <td>NaN</td>\n",
       "      <td>109.138708</td>\n",
       "      <td>NaN</td>\n",
       "      <td>60.198589</td>\n",
       "      <td>22.847645</td>\n",
       "      <td>13.762473</td>\n",
       "      <td>NaN</td>\n",
       "    </tr>\n",
       "    <tr>\n",
       "      <th>min</th>\n",
       "      <td>NaN</td>\n",
       "      <td>NaN</td>\n",
       "      <td>NaN</td>\n",
       "      <td>NaN</td>\n",
       "      <td>-2.000000</td>\n",
       "      <td>NaN</td>\n",
       "      <td>-389.000000</td>\n",
       "      <td>0.000000</td>\n",
       "      <td>0.000000</td>\n",
       "      <td>NaN</td>\n",
       "    </tr>\n",
       "    <tr>\n",
       "      <th>25%</th>\n",
       "      <td>NaN</td>\n",
       "      <td>NaN</td>\n",
       "      <td>NaN</td>\n",
       "      <td>NaN</td>\n",
       "      <td>10.000000</td>\n",
       "      <td>NaN</td>\n",
       "      <td>19.800000</td>\n",
       "      <td>0.000000</td>\n",
       "      <td>33.000000</td>\n",
       "      <td>NaN</td>\n",
       "    </tr>\n",
       "    <tr>\n",
       "      <th>50%</th>\n",
       "      <td>NaN</td>\n",
       "      <td>NaN</td>\n",
       "      <td>NaN</td>\n",
       "      <td>NaN</td>\n",
       "      <td>24.000000</td>\n",
       "      <td>NaN</td>\n",
       "      <td>29.500000</td>\n",
       "      <td>0.000000</td>\n",
       "      <td>36.000000</td>\n",
       "      <td>NaN</td>\n",
       "    </tr>\n",
       "    <tr>\n",
       "      <th>75%</th>\n",
       "      <td>NaN</td>\n",
       "      <td>NaN</td>\n",
       "      <td>NaN</td>\n",
       "      <td>NaN</td>\n",
       "      <td>57.000000</td>\n",
       "      <td>NaN</td>\n",
       "      <td>55.000000</td>\n",
       "      <td>13.380000</td>\n",
       "      <td>43.000000</td>\n",
       "      <td>NaN</td>\n",
       "    </tr>\n",
       "    <tr>\n",
       "      <th>max</th>\n",
       "      <td>NaN</td>\n",
       "      <td>NaN</td>\n",
       "      <td>NaN</td>\n",
       "      <td>NaN</td>\n",
       "      <td>4881.000000</td>\n",
       "      <td>NaN</td>\n",
       "      <td>682.000000</td>\n",
       "      <td>262.760000</td>\n",
       "      <td>118.000000</td>\n",
       "      <td>NaN</td>\n",
       "    </tr>\n",
       "  </tbody>\n",
       "</table>\n",
       "</div>"
      ],
      "text/plain": [
       "       Agency    Agency Type Distribution Channel       Product Name  \\\n",
       "count   52310          52310                52310              52310   \n",
       "unique     16              2                    2                 25   \n",
       "top       EPX  Travel Agency               Online  Cancellation Plan   \n",
       "freq    26218          34996                51419              13254   \n",
       "mean      NaN            NaN                  NaN                NaN   \n",
       "std       NaN            NaN                  NaN                NaN   \n",
       "min       NaN            NaN                  NaN                NaN   \n",
       "25%       NaN            NaN                  NaN                NaN   \n",
       "50%       NaN            NaN                  NaN                NaN   \n",
       "75%       NaN            NaN                  NaN                NaN   \n",
       "max       NaN            NaN                  NaN                NaN   \n",
       "\n",
       "            Duration Destination     Net Sales    Commission           Age  \\\n",
       "count   52310.000000       52310  52310.000000  52310.000000  52310.000000   \n",
       "unique           NaN          97           NaN           NaN           NaN   \n",
       "top              NaN   SINGAPORE           NaN           NaN           NaN   \n",
       "freq             NaN       14242           NaN           NaN           NaN   \n",
       "mean       58.256108         NaN     48.554673     12.219963     39.555725   \n",
       "std       109.138708         NaN     60.198589     22.847645     13.762473   \n",
       "min        -2.000000         NaN   -389.000000      0.000000      0.000000   \n",
       "25%        10.000000         NaN     19.800000      0.000000     33.000000   \n",
       "50%        24.000000         NaN     29.500000      0.000000     36.000000   \n",
       "75%        57.000000         NaN     55.000000     13.380000     43.000000   \n",
       "max      4881.000000         NaN    682.000000    262.760000    118.000000   \n",
       "\n",
       "          Claim  \n",
       "count   52310.0  \n",
       "unique      2.0  \n",
       "top         0.0  \n",
       "freq    43590.0  \n",
       "mean        NaN  \n",
       "std         NaN  \n",
       "min         NaN  \n",
       "25%         NaN  \n",
       "50%         NaN  \n",
       "75%         NaN  \n",
       "max         NaN  "
      ]
     },
     "execution_count": 10,
     "metadata": {},
     "output_type": "execute_result"
    }
   ],
   "source": [
    "print('Summary Statistics of Variables')\n",
    "train.describe(include='all')"
   ]
  },
  {
   "cell_type": "markdown",
   "metadata": {},
   "source": [
    "Following observations can be made from the above table.\n",
    "- For categorical variables like Agency, Agency Type, Distribution Channel , Product Name, there is one dominant category\n",
    "- Duration of travel has negative values, which is not possible\n",
    "- Net Sales also has negative values, which is not possible\n",
    "- Age has a maximum value of 118. A person as old as 118 cannot travel. \n",
    "- Standard Deviation of Duration is high, indicating presence of outliers."
   ]
  },
  {
   "cell_type": "code",
   "execution_count": 11,
   "metadata": {},
   "outputs": [],
   "source": [
    "num_col=['Duration','Net Sales','Commission', 'Age']\n",
    "cat_col=['Agency','Agency Type','Distribution Channel','Product Name','Destination']"
   ]
  },
  {
   "cell_type": "markdown",
   "metadata": {},
   "source": [
    "# Univariate and Bivariate Analysis"
   ]
  },
  {
   "cell_type": "markdown",
   "metadata": {},
   "source": [
    "Variable 1 - Agency"
   ]
  },
  {
   "cell_type": "code",
   "execution_count": 12,
   "metadata": {},
   "outputs": [
    {
     "name": "stdout",
     "output_type": "stream",
     "text": [
      "The value counts for the Agency variable are\n"
     ]
    },
    {
     "data": {
      "text/plain": [
       "EPX    26218\n",
       "C2B    10615\n",
       "CWT     6813\n",
       "JZI     4619\n",
       "LWC      806\n",
       "SSI      780\n",
       "JWT      550\n",
       "RAB      527\n",
       "TST      394\n",
       "KML      313\n",
       "ART      223\n",
       "CCR      156\n",
       "TTW      104\n",
       "CBH       76\n",
       "CSR       60\n",
       "ADM       56\n",
       "Name: Agency, dtype: int64"
      ]
     },
     "execution_count": 12,
     "metadata": {},
     "output_type": "execute_result"
    }
   ],
   "source": [
    "print('The value counts for the Agency variable are')\n",
    "train['Agency'].value_counts()"
   ]
  },
  {
   "cell_type": "code",
   "execution_count": 13,
   "metadata": {},
   "outputs": [
    {
     "data": {
      "image/png": "[encoded data removed]",
      "text/plain": [
       "<Figure size 720x360 with 1 Axes>"
      ]
     },
     "metadata": {
      "needs_background": "light"
     },
     "output_type": "display_data"
    }
   ],
   "source": [
    "plt.figure(figsize=(10,5))\n",
    "train['Agency'].value_counts().plot(kind='bar', title='Names of Agency')\n",
    "plt.show()"
   ]
  },
  {
   "cell_type": "markdown",
   "metadata": {},
   "source": [
    "Agency EPX is the largest agency for the insurer, followed by C2B, CWT and JZI. All others have negligible business with the insurer"
   ]
  },
  {
   "cell_type": "code",
   "execution_count": 14,
   "metadata": {},
   "outputs": [],
   "source": [
    "# Lets check for the break up of Agency by Claims"
   ]
  },
  {
   "cell_type": "code",
   "execution_count": 15,
   "metadata": {},
   "outputs": [
    {
     "data": {
      "image/png": "[encoded data removed]",
      "text/plain": [
       "<Figure size 720x432 with 1 Axes>"
      ]
     },
     "metadata": {
      "needs_background": "light"
     },
     "output_type": "display_data"
    }
   ],
   "source": [
    "agency_breakup = train.groupby('Agency')['Claim'].value_counts(normalize=True).unstack()\n",
    "agency_breakup.plot(kind='bar', stacked=True, figsize=(10,6))\n",
    "plt.title('Percentage Break up of Claims by Agency')\n",
    "plt.xlabel('Agency Name')\n",
    "plt.show()"
   ]
  },
  {
   "cell_type": "markdown",
   "metadata": {},
   "source": [
    "Agencies of C2B, LWC, TTW have customers with higher claims as compared to other agencies. The largest agency EPX has customers with very few claims"
   ]
  },
  {
   "cell_type": "markdown",
   "metadata": {},
   "source": [
    "Lets check for the relationship between Agency and the dependent variable 'Claims' using Chi Square Test of Independence"
   ]
  },
  {
   "cell_type": "code",
   "execution_count": 16,
   "metadata": {},
   "outputs": [
    {
     "name": "stdout",
     "output_type": "stream",
     "text": [
      "The p value is 0.0\n",
      "Given the p value of 0.0 we reject the Null Hypothesis that variables Agency and Claim Status are significantly independent\n"
     ]
    }
   ],
   "source": [
    "# Check for the significance of the relationship between the Agency and Claim Status using Chi Square Test\n",
    "crosstab = pd.crosstab(train['Agency'], train['Claim'])\n",
    "chi2, p, dof, expected = stats.chi2_contingency(crosstab)\n",
    "print('The p value is', p)\n",
    "if (p < 0.05):\n",
    "    print('Given the p value of', p, 'we reject the Null Hypothesis that variables Agency and Claim Status are significantly independent')\n",
    "else:\n",
    "    print('Given the p value of', p, 'we fail to reject the Null Hypothesis that variables Agency and Claim Status are significantly independent')\n"
   ]
  },
  {
   "cell_type": "markdown",
   "metadata": {},
   "source": [
    "Variable 2 : Agency Type"
   ]
  },
  {
   "cell_type": "code",
   "execution_count": 17,
   "metadata": {},
   "outputs": [
    {
     "name": "stdout",
     "output_type": "stream",
     "text": [
      "The value counts of Agency Type are\n"
     ]
    },
    {
     "data": {
      "text/plain": [
       "Travel Agency    34996\n",
       "Airlines         17314\n",
       "Name: Agency Type, dtype: int64"
      ]
     },
     "execution_count": 17,
     "metadata": {},
     "output_type": "execute_result"
    }
   ],
   "source": [
    "print('The value counts of Agency Type are')\n",
    "train['Agency Type'].value_counts()"
   ]
  },
  {
   "cell_type": "markdown",
   "metadata": {},
   "source": [
    "Travel Agency constitutes 67% of the overall Agency Type"
   ]
  },
  {
   "cell_type": "code",
   "execution_count": 18,
   "metadata": {},
   "outputs": [
    {
     "data": {
      "image/png": "[encoded data removed]",
      "text/plain": [
       "<Figure size 504x360 with 1 Axes>"
      ]
     },
     "metadata": {
      "needs_background": "light"
     },
     "output_type": "display_data"
    }
   ],
   "source": [
    "plt.figure(figsize=(7,5))\n",
    "train['Agency Type'].value_counts().plot(kind='bar', title='Types of Agency')\n",
    "plt.show()"
   ]
  },
  {
   "cell_type": "markdown",
   "metadata": {},
   "source": [
    "Lets look at the break up of Agency Type by Claims"
   ]
  },
  {
   "cell_type": "code",
   "execution_count": 19,
   "metadata": {},
   "outputs": [
    {
     "data": {
      "image/png": "[encoded data removed]",
      "text/plain": [
       "<Figure size 504x360 with 1 Axes>"
      ]
     },
     "metadata": {
      "needs_background": "light"
     },
     "output_type": "display_data"
    }
   ],
   "source": [
    "agency_type_breakup = train.groupby('Agency Type')['Claim'].value_counts(normalize=True).unstack()\n",
    "agency_type_breakup.plot(kind='bar', stacked=True, figsize=(7,5))\n",
    "plt.xlabel('Agency Type')\n",
    "plt.title('Percentage Break up of Agency Type by Claim')\n",
    "plt.show()"
   ]
  },
  {
   "cell_type": "markdown",
   "metadata": {},
   "source": [
    "We can observe from the graph that even though Travel Agency constitutes higher percentage of Agency Type, claims are higher for Airlines"
   ]
  },
  {
   "cell_type": "markdown",
   "metadata": {},
   "source": [
    "Lets check for the relationship between Agency Type and the dependent variable 'Claims' using Chi Square Test of Independence"
   ]
  },
  {
   "cell_type": "code",
   "execution_count": 20,
   "metadata": {},
   "outputs": [
    {
     "name": "stdout",
     "output_type": "stream",
     "text": [
      "The p value is 0.0\n",
      "Given the p value of 0.0 we reject the Null Hypothesis that variables Agency Type and Claim Status are significantly independent\n"
     ]
    }
   ],
   "source": [
    "crosstab = pd.crosstab(train['Agency Type'], train['Claim'])\n",
    "chi2,p, dof,expected = stats.chi2_contingency(crosstab)\n",
    "print('The p value is', p)\n",
    "if (p < 0.05):\n",
    "    print('Given the p value of', p, 'we reject the Null Hypothesis that variables Agency Type and Claim Status are significantly independent')\n",
    "else:\n",
    "    print('Given the p value of', p, 'we fail to reject the Null Hypothesis that variables Agency Type and Claim Status are significantly independent')\n"
   ]
  },
  {
   "cell_type": "markdown",
   "metadata": {},
   "source": [
    "Variable 3: Distribution Channel"
   ]
  },
  {
   "cell_type": "code",
   "execution_count": 21,
   "metadata": {},
   "outputs": [
    {
     "name": "stdout",
     "output_type": "stream",
     "text": [
      "The value counts for Distribution Channel are\n"
     ]
    },
    {
     "data": {
      "text/plain": [
       "Online     51419\n",
       "Offline      891\n",
       "Name: Distribution Channel, dtype: int64"
      ]
     },
     "execution_count": 21,
     "metadata": {},
     "output_type": "execute_result"
    }
   ],
   "source": [
    "print('The value counts for Distribution Channel are')\n",
    "train['Distribution Channel'].value_counts()"
   ]
  },
  {
   "cell_type": "code",
   "execution_count": 22,
   "metadata": {},
   "outputs": [
    {
     "data": {
      "text/plain": [
       "<matplotlib.axes._subplots.AxesSubplot at 0x1effcd987b8>"
      ]
     },
     "execution_count": 22,
     "metadata": {},
     "output_type": "execute_result"
    },
    {
     "data": {
      "image/png": "[encoded data removed]",
      "text/plain": [
       "<Figure size 504x360 with 1 Axes>"
      ]
     },
     "metadata": {
      "needs_background": "light"
     },
     "output_type": "display_data"
    }
   ],
   "source": [
    "plt.figure(figsize=(7,5))\n",
    "train['Distribution Channel'].value_counts().plot(kind='bar', title=('Types of Distribution Channel'))"
   ]
  },
  {
   "cell_type": "code",
   "execution_count": 23,
   "metadata": {},
   "outputs": [
    {
     "data": {
      "text/plain": [
       "Text(0.5, 0, 'Distribution Channel')"
      ]
     },
     "execution_count": 23,
     "metadata": {},
     "output_type": "execute_result"
    },
    {
     "data": {
      "image/png": "[encoded data removed]",
      "text/plain": [
       "<Figure size 504x360 with 1 Axes>"
      ]
     },
     "metadata": {
      "needs_background": "light"
     },
     "output_type": "display_data"
    }
   ],
   "source": [
    "# Break up of Distribution Channels by claims\n",
    "DC =train.groupby('Distribution Channel')['Claim'].value_counts().unstack()\n",
    "DC.plot(kind='bar', stacked=True, figsize=(7,5))\n",
    "plt.title('Claims by Distribution Channel')\n",
    "plt.xlabel('Distribution Channel')"
   ]
  },
  {
   "cell_type": "markdown",
   "metadata": {},
   "source": [
    "Online Channel constitutes the largest distribution channel for the insurer and also has a higher proportion of positive claims"
   ]
  },
  {
   "cell_type": "markdown",
   "metadata": {},
   "source": [
    "Lets check for the relationship between Distribution and the dependent variable 'Claims' using Chi Square Test of Independence"
   ]
  },
  {
   "cell_type": "code",
   "execution_count": 24,
   "metadata": {},
   "outputs": [
    {
     "name": "stdout",
     "output_type": "stream",
     "text": [
      "The p value is 0.0027497083841443296\n",
      "Given the p value of 0.0027497083841443296 we reject the Null Hypothesis that variables Distribution and Claim Status are significantly independent\n"
     ]
    }
   ],
   "source": [
    "crosstab = pd.crosstab(train['Distribution Channel'], train['Claim'])\n",
    "chi2, p, dof, expected = stats.chi2_contingency(crosstab)\n",
    "print('The p value is', p)\n",
    "if (p < 0.05):\n",
    "    print('Given the p value of', p, 'we reject the Null Hypothesis that variables Distribution and Claim Status are significantly independent')\n",
    "else:\n",
    "    print('Given the p value of', p, 'we fail to reject the Null Hypothesis that variables Distribution and Claim Status are significantly independent')\n"
   ]
  },
  {
   "cell_type": "markdown",
   "metadata": {},
   "source": [
    "Variable 4: Product Name"
   ]
  },
  {
   "cell_type": "code",
   "execution_count": 25,
   "metadata": {},
   "outputs": [
    {
     "name": "stdout",
     "output_type": "stream",
     "text": [
      "The different Products and their Counts are\n"
     ]
    },
    {
     "data": {
      "text/plain": [
       "Cancellation Plan                       13254\n",
       "2 way Comprehensive Plan                10555\n",
       "Rental Vehicle Excess Insurance          6813\n",
       "Bronze Plan                              4723\n",
       "Basic Plan                               4042\n",
       "Silver Plan                              2862\n",
       "1 way Comprehensive Plan                 2409\n",
       "Annual Silver Plan                       2348\n",
       "Value Plan                               1961\n",
       "Ticket Protector                          780\n",
       "Travel Cruise Protect                     394\n",
       "Gold Plan                                 380\n",
       "Annual Gold Plan                          295\n",
       "Comprehensive Plan                        278\n",
       "Single Trip Travel Protect Gold           251\n",
       "Annual Travel Protect Gold                183\n",
       "24 Protect                                165\n",
       "Premier Plan                              141\n",
       "Single Trip Travel Protect Silver         130\n",
       "Single Trip Travel Protect Platinum       100\n",
       "Annual Travel Protect Silver               92\n",
       "Individual Comprehensive Plan              84\n",
       "Annual Travel Protect Platinum             50\n",
       "Spouse or Parents Comprehensive Plan       12\n",
       "Child Comprehensive Plan                    8\n",
       "Name: Product Name, dtype: int64"
      ]
     },
     "execution_count": 25,
     "metadata": {},
     "output_type": "execute_result"
    }
   ],
   "source": [
    "print('The different Products and their Counts are')\n",
    "train['Product Name'].value_counts()"
   ]
  },
  {
   "cell_type": "code",
   "execution_count": 26,
   "metadata": {},
   "outputs": [
    {
     "data": {
      "image/png": "[encoded data removed]",
      "text/plain": [
       "<Figure size 720x360 with 1 Axes>"
      ]
     },
     "metadata": {
      "needs_background": "light"
     },
     "output_type": "display_data"
    }
   ],
   "source": [
    "plt.figure(figsize=(10,5))\n",
    "train['Product Name'].value_counts().plot(kind='bar', title='Travel Products')\n",
    "plt.show()"
   ]
  },
  {
   "cell_type": "code",
   "execution_count": 27,
   "metadata": {},
   "outputs": [
    {
     "data": {
      "text/plain": [
       "Text(0.5, 1.0, '% Break up of Claims by Products')"
      ]
     },
     "execution_count": 27,
     "metadata": {},
     "output_type": "execute_result"
    },
    {
     "data": {
      "image/png": "[encoded data removed]",
      "text/plain": [
       "<Figure size 720x504 with 1 Axes>"
      ]
     },
     "metadata": {
      "needs_background": "light"
     },
     "output_type": "display_data"
    }
   ],
   "source": [
    "# Percentage Break up Products by Claims\n",
    "PNC = train.groupby('Product Name')['Claim'].value_counts(normalize = True).unstack()\n",
    "PNC.plot(kind='bar', stacked = True, figsize=(10,7))\n",
    "plt.xlabel('Products')\n",
    "plt.title('% Break up of Claims by Products')\n",
    "\n"
   ]
  },
  {
   "cell_type": "markdown",
   "metadata": {},
   "source": [
    "The most popular travel plans do not have higher claims. Products like Gold Plan, Silver Plan, Bronze Plan have higher claims.\n",
    "We can infer that these plans would be more expensive and hence not purchased much by customers"
   ]
  },
  {
   "cell_type": "markdown",
   "metadata": {},
   "source": [
    "Lets check for the relationship between Product Name and the dependent variable 'Claims' using Chi Square Test of Independence"
   ]
  },
  {
   "cell_type": "code",
   "execution_count": 28,
   "metadata": {},
   "outputs": [
    {
     "name": "stdout",
     "output_type": "stream",
     "text": [
      "The p value is 0.0\n",
      "Given the p value of 0.0 we reject the Null Hypothesis that variables Product Name and Claim Status are significantly independent\n"
     ]
    }
   ],
   "source": [
    "# Lets check for the significance of the Product name variable\n",
    "crosstab = pd.crosstab(train['Product Name'], train['Claim'])\n",
    "chi2, p, dof, expected = stats.chi2_contingency(crosstab)\n",
    "print('The p value is', p)\n",
    "if (p < 0.05):\n",
    "    print('Given the p value of', p, 'we reject the Null Hypothesis that variables Product Name and Claim Status are significantly independent')\n",
    "else:\n",
    "    print('Given the p value of', p, 'we fail to reject the Null Hypothesis that variables Product Name and Claim Status are significantly independent')\n"
   ]
  },
  {
   "cell_type": "markdown",
   "metadata": {},
   "source": [
    "Variable 5: Duration"
   ]
  },
  {
   "cell_type": "code",
   "execution_count": 29,
   "metadata": {},
   "outputs": [
    {
     "data": {
      "text/plain": [
       "count    52310.000000\n",
       "mean        58.256108\n",
       "std        109.138708\n",
       "min         -2.000000\n",
       "25%         10.000000\n",
       "50%         24.000000\n",
       "75%         57.000000\n",
       "max       4881.000000\n",
       "Name: Duration, dtype: float64"
      ]
     },
     "execution_count": 29,
     "metadata": {},
     "output_type": "execute_result"
    }
   ],
   "source": [
    "train['Duration'].describe()"
   ]
  },
  {
   "cell_type": "code",
   "execution_count": 30,
   "metadata": {},
   "outputs": [
    {
     "data": {
      "image/png": "[encoded data removed]",
      "text/plain": [
       "<Figure size 504x360 with 1 Axes>"
      ]
     },
     "metadata": {
      "needs_background": "light"
     },
     "output_type": "display_data"
    }
   ],
   "source": [
    "plt.figure(figsize=(7,5))\n",
    "plt.title('Distribution of Duration of Travel')\n",
    "sns.distplot(train['Duration'])\n",
    "plt.show()"
   ]
  },
  {
   "cell_type": "markdown",
   "metadata": {},
   "source": [
    "We can see that the variable, Duration, is highly skewed. We will need to transform this variable in the preprocessing section."
   ]
  },
  {
   "cell_type": "markdown",
   "metadata": {},
   "source": [
    "Also there are negative values which need to be removed. lets check how many and where are the negative values for this variable"
   ]
  },
  {
   "cell_type": "code",
   "execution_count": 31,
   "metadata": {},
   "outputs": [
    {
     "data": {
      "text/html": [
       "<div>\n",
       "<style scoped>\n",
       "    .dataframe tbody tr th:only-of-type {\n",
       "        vertical-align: middle;\n",
       "    }\n",
       "\n",
       "    .dataframe tbody tr th {\n",
       "        vertical-align: top;\n",
       "    }\n",
       "\n",
       "    .dataframe thead th {\n",
       "        text-align: right;\n",
       "    }\n",
       "</style>\n",
       "<table border=\"1\" class=\"dataframe\">\n",
       "  <thead>\n",
       "    <tr style=\"text-align: right;\">\n",
       "      <th></th>\n",
       "      <th>Agency</th>\n",
       "      <th>Agency Type</th>\n",
       "      <th>Distribution Channel</th>\n",
       "      <th>Product Name</th>\n",
       "      <th>Duration</th>\n",
       "      <th>Destination</th>\n",
       "      <th>Net Sales</th>\n",
       "      <th>Commission</th>\n",
       "      <th>Age</th>\n",
       "      <th>Claim</th>\n",
       "    </tr>\n",
       "  </thead>\n",
       "  <tbody>\n",
       "    <tr>\n",
       "      <th>11523</th>\n",
       "      <td>JZI</td>\n",
       "      <td>Airlines</td>\n",
       "      <td>Online</td>\n",
       "      <td>Basic Plan</td>\n",
       "      <td>-1</td>\n",
       "      <td>INDONESIA</td>\n",
       "      <td>18.0</td>\n",
       "      <td>6.3</td>\n",
       "      <td>118</td>\n",
       "      <td>0</td>\n",
       "    </tr>\n",
       "    <tr>\n",
       "      <th>15949</th>\n",
       "      <td>JZI</td>\n",
       "      <td>Airlines</td>\n",
       "      <td>Online</td>\n",
       "      <td>Basic Plan</td>\n",
       "      <td>-1</td>\n",
       "      <td>BRUNEI DARUSSALAM</td>\n",
       "      <td>18.0</td>\n",
       "      <td>6.3</td>\n",
       "      <td>118</td>\n",
       "      <td>0</td>\n",
       "    </tr>\n",
       "    <tr>\n",
       "      <th>33398</th>\n",
       "      <td>JZI</td>\n",
       "      <td>Airlines</td>\n",
       "      <td>Online</td>\n",
       "      <td>Basic Plan</td>\n",
       "      <td>-1</td>\n",
       "      <td>MALAYSIA</td>\n",
       "      <td>18.0</td>\n",
       "      <td>6.3</td>\n",
       "      <td>118</td>\n",
       "      <td>0</td>\n",
       "    </tr>\n",
       "    <tr>\n",
       "      <th>41424</th>\n",
       "      <td>JZI</td>\n",
       "      <td>Airlines</td>\n",
       "      <td>Online</td>\n",
       "      <td>Basic Plan</td>\n",
       "      <td>-2</td>\n",
       "      <td>BANGLADESH</td>\n",
       "      <td>22.0</td>\n",
       "      <td>7.7</td>\n",
       "      <td>118</td>\n",
       "      <td>0</td>\n",
       "    </tr>\n",
       "  </tbody>\n",
       "</table>\n",
       "</div>"
      ],
      "text/plain": [
       "      Agency Agency Type Distribution Channel Product Name  Duration  \\\n",
       "11523    JZI    Airlines               Online   Basic Plan        -1   \n",
       "15949    JZI    Airlines               Online   Basic Plan        -1   \n",
       "33398    JZI    Airlines               Online   Basic Plan        -1   \n",
       "41424    JZI    Airlines               Online   Basic Plan        -2   \n",
       "\n",
       "             Destination  Net Sales  Commission  Age Claim  \n",
       "11523          INDONESIA       18.0         6.3  118     0  \n",
       "15949  BRUNEI DARUSSALAM       18.0         6.3  118     0  \n",
       "33398           MALAYSIA       18.0         6.3  118     0  \n",
       "41424         BANGLADESH       22.0         7.7  118     0  "
      ]
     },
     "execution_count": 31,
     "metadata": {},
     "output_type": "execute_result"
    }
   ],
   "source": [
    "train[train['Duration']<0]"
   ]
  },
  {
   "cell_type": "markdown",
   "metadata": {},
   "source": [
    "These are also the rows where the Age is 118. We can go ahead and delete these rows."
   ]
  },
  {
   "cell_type": "code",
   "execution_count": 32,
   "metadata": {},
   "outputs": [
    {
     "name": "stdout",
     "output_type": "stream",
     "text": [
      "(52306, 10)\n"
     ]
    }
   ],
   "source": [
    "train.drop(train[train['Duration']<0].index, inplace=True)\n",
    "print(train.shape)"
   ]
  },
  {
   "cell_type": "code",
   "execution_count": 33,
   "metadata": {},
   "outputs": [
    {
     "data": {
      "text/plain": [
       "<matplotlib.axes._subplots.AxesSubplot at 0x1effc885c50>"
      ]
     },
     "execution_count": 33,
     "metadata": {},
     "output_type": "execute_result"
    },
    {
     "data": {
      "image/png": "[encoded data removed]",
      "text/plain": [
       "<Figure size 576x360 with 1 Axes>"
      ]
     },
     "metadata": {
      "needs_background": "light"
     },
     "output_type": "display_data"
    }
   ],
   "source": [
    "# Plot a boxplot to see the distribution of the Duration variable wrt Claims\n",
    "plt.figure(figsize=(8,5))\n",
    "plt.title('Distribution of Duration wrt Claims')\n",
    "plt.ylim(0,800)\n",
    "sns.boxplot(x = 'Claim', y='Duration', data=train)"
   ]
  },
  {
   "cell_type": "markdown",
   "metadata": {},
   "source": [
    "Duration of positive claims is higher than the non positive claims"
   ]
  },
  {
   "cell_type": "markdown",
   "metadata": {},
   "source": [
    "Lets check for the relationship between Duration and the dependent variable 'Claims' using T tests"
   ]
  },
  {
   "cell_type": "code",
   "execution_count": 34,
   "metadata": {},
   "outputs": [
    {
     "name": "stdout",
     "output_type": "stream",
     "text": [
      "The p value for Duration is 0.0\n",
      "Given the p value of 0.0 we reject the Null Hypothesis that variables Product Name and Claim Status are significantly independent\n"
     ]
    }
   ],
   "source": [
    "D0 = train[train['Claim']==0]['Duration'].values.tolist()\n",
    "D1 = train[train['Claim']==1]['Duration'].values.tolist()\n",
    "stat,p = ttest_ind(D0,D1)\n",
    "print('The p value for Duration is',p)\n",
    "if (p < 0.05):\n",
    "    print('Given the p value of', p, 'we reject the Null Hypothesis that variables Product Name and Claim Status are significantly independent')\n",
    "else:\n",
    "    print('Given the p value of', p, 'we fail to reject the Null Hypothesis that variables Product Name and Claim Status are significantly independent')"
   ]
  },
  {
   "cell_type": "code",
   "execution_count": 35,
   "metadata": {},
   "outputs": [],
   "source": [
    "# Plot the boxplot to check the outliers in the column\n",
    "#plt.figure(figsize=(10,10))\n",
    "#plt.title('Distribution of Duration')\n",
    "#ax1 = sns.boxplot(x= train['Duration'], data= train )\n",
    "#train[train['Duration']>4000]\n",
    "##There are number of observations with outlier value beyond 4500.We will keep these values for now. There are 9 observations for which the value of Duration is > 4000\n",
    "\n",
    "## We will apply log transformation to the Duration variable as it is rightly skewed. Also as certain values are 0, we will \n",
    "# add a constant i.e.1 to it before using log\n",
    "#print(train['Duration'].head(5))\n",
    "#train['Duration'] = train['Duration'] + 1\n",
    "#print(train['Duration'].head(5))\n",
    "#train['Duration'] = np.log(train['Duration'])\n",
    "#print(train['Duration'].head(5))\n",
    "#plt.figure(figsize=(10,10))\n",
    "#sns.distplot(train['Duration'], hist=False)"
   ]
  },
  {
   "cell_type": "markdown",
   "metadata": {},
   "source": [
    "Variable 6 : Destination"
   ]
  },
  {
   "cell_type": "code",
   "execution_count": 36,
   "metadata": {},
   "outputs": [
    {
     "name": "stdout",
     "output_type": "stream",
     "text": [
      "The top 50 Destinations are\n"
     ]
    },
    {
     "data": {
      "text/plain": [
       "SINGAPORE                           14242\n",
       "THAILAND                             4562\n",
       "MALAYSIA                             4358\n",
       "CHINA                                3909\n",
       "AUSTRALIA                            3011\n",
       "INDONESIA                            2515\n",
       "UNITED STATES                        2196\n",
       "PHILIPPINES                          1797\n",
       "HONG KONG                            1775\n",
       "JAPAN                                1611\n",
       "INDIA                                1596\n",
       "VIET NAM                             1205\n",
       "KOREA, REPUBLIC OF                   1152\n",
       "UNITED KINGDOM                       1044\n",
       "TAIWAN, PROVINCE OF CHINA             824\n",
       "MYANMAR                               591\n",
       "BRUNEI DARUSSALAM                     564\n",
       "ITALY                                 408\n",
       "CANADA                                393\n",
       "NEW ZEALAND                           384\n",
       "CAMBODIA                              360\n",
       "FRANCE                                334\n",
       "GERMANY                               324\n",
       "NETHERLANDS                           303\n",
       "SPAIN                                 267\n",
       "UNITED ARAB EMIRATES                  213\n",
       "SWITZERLAND                           186\n",
       "SRI LANKA                             175\n",
       "SOUTH AFRICA                          153\n",
       "NEPAL                                 128\n",
       "NORWAY                                120\n",
       "LAO PEOPLE'S DEMOCRATIC REPUBLIC      105\n",
       "IRELAND                                89\n",
       "ICELAND                                82\n",
       "DENMARK                                76\n",
       "MACAO                                  72\n",
       "PERU                                   69\n",
       "GREECE                                 69\n",
       "PORTUGAL                               67\n",
       "AUSTRIA                                66\n",
       "BANGLADESH                             65\n",
       "FINLAND                                63\n",
       "TURKEY                                 62\n",
       "RUSSIAN FEDERATION                     51\n",
       "CZECH REPUBLIC                         49\n",
       "SAUDI ARABIA                           44\n",
       "SWEDEN                                 40\n",
       "CROATIA                                36\n",
       "BELGIUM                                32\n",
       "ISRAEL                                 28\n",
       "Name: Destination, dtype: int64"
      ]
     },
     "execution_count": 36,
     "metadata": {},
     "output_type": "execute_result"
    }
   ],
   "source": [
    "print('The top 50 Destinations are')\n",
    "train['Destination'].value_counts().head(50)"
   ]
  },
  {
   "cell_type": "code",
   "execution_count": 37,
   "metadata": {},
   "outputs": [
    {
     "name": "stdout",
     "output_type": "stream",
     "text": [
      "The total number of Destinations are 97\n"
     ]
    }
   ],
   "source": [
    "print('The total number of Destinations are',train['Destination'].nunique())"
   ]
  },
  {
   "cell_type": "code",
   "execution_count": 38,
   "metadata": {},
   "outputs": [
    {
     "data": {
      "image/png": "[encoded data removed]",
      "text/plain": [
       "<Figure size 1080x504 with 1 Axes>"
      ]
     },
     "metadata": {
      "needs_background": "light"
     },
     "output_type": "display_data"
    }
   ],
   "source": [
    "plt.figure(figsize=(15,7))\n",
    "train['Destination'].value_counts().head(50).plot(kind='bar', title='Tope 50 Destinations')\n",
    "plt.show()"
   ]
  },
  {
   "cell_type": "code",
   "execution_count": 39,
   "metadata": {},
   "outputs": [
    {
     "data": {
      "image/png": "[encoded data removed]",
      "text/plain": [
       "<Figure size 1440x504 with 1 Axes>"
      ]
     },
     "metadata": {
      "needs_background": "light"
     },
     "output_type": "display_data"
    }
   ],
   "source": [
    "# Analyse the variable Destination wrt Claims\n",
    "Destinationby_Claims = train.groupby('Destination')['Claim'].value_counts(normalize=True).unstack()\n",
    "Destinationby_Claims.plot(kind='bar', stacked=True, figsize=(20,7), title='Percentage Break up of Claims by Destination')\n",
    "plt.show()"
   ]
  },
  {
   "cell_type": "markdown",
   "metadata": {},
   "source": [
    "Countries like Singapore, South Africa, Nepal have higher proportion of positive claims"
   ]
  },
  {
   "cell_type": "markdown",
   "metadata": {},
   "source": [
    "Lets check for the relationship between Destination and the dependent variable 'Claims' using Chi Square Test of Independence"
   ]
  },
  {
   "cell_type": "code",
   "execution_count": 40,
   "metadata": {},
   "outputs": [
    {
     "name": "stdout",
     "output_type": "stream",
     "text": [
      "The p value is 0.0\n",
      "Given the p value of 0.0 we reject the Null Hypothesis that variables Destination and Claim Status are significantly independent\n"
     ]
    }
   ],
   "source": [
    "crosstab = pd.crosstab(train['Destination'], train['Claim'])\n",
    "chi2, p, dof, expected = stats.chi2_contingency(crosstab)\n",
    "print('The p value is', p)\n",
    "if (p < 0.05):\n",
    "    print('Given the p value of', p, 'we reject the Null Hypothesis that variables Destination and Claim Status are significantly independent')\n",
    "else:\n",
    "    print('Given the p value of', p, 'we fail to reject the Null Hypothesis that variables Destination and Claim Status are significantly independent')\n"
   ]
  },
  {
   "cell_type": "markdown",
   "metadata": {},
   "source": [
    "Variable 7: Age"
   ]
  },
  {
   "cell_type": "code",
   "execution_count": 41,
   "metadata": {},
   "outputs": [
    {
     "data": {
      "text/plain": [
       "count    52306.000000\n",
       "mean        39.549727\n",
       "std         13.745891\n",
       "min          0.000000\n",
       "25%         33.000000\n",
       "50%         36.000000\n",
       "75%         43.000000\n",
       "max        118.000000\n",
       "Name: Age, dtype: float64"
      ]
     },
     "execution_count": 41,
     "metadata": {},
     "output_type": "execute_result"
    }
   ],
   "source": [
    "train['Age'].describe()"
   ]
  },
  {
   "cell_type": "markdown",
   "metadata": {},
   "source": [
    "Max value of Age is 118. Lets check the number of values for Age greater than 100"
   ]
  },
  {
   "cell_type": "code",
   "execution_count": 42,
   "metadata": {},
   "outputs": [
    {
     "data": {
      "text/plain": [
       "733"
      ]
     },
     "execution_count": 42,
     "metadata": {},
     "output_type": "execute_result"
    }
   ],
   "source": [
    "train[train['Age']>100].shape[0]"
   ]
  },
  {
   "cell_type": "code",
   "execution_count": 43,
   "metadata": {},
   "outputs": [
    {
     "data": {
      "text/plain": [
       "52306"
      ]
     },
     "execution_count": 43,
     "metadata": {},
     "output_type": "execute_result"
    }
   ],
   "source": [
    "train.shape[0]"
   ]
  },
  {
   "cell_type": "markdown",
   "metadata": {},
   "source": [
    "What percentage of this is made up of rows that have Age greater than 100"
   ]
  },
  {
   "cell_type": "code",
   "execution_count": 44,
   "metadata": {},
   "outputs": [
    {
     "data": {
      "text/plain": [
       "0.014013688678163118"
      ]
     },
     "execution_count": 44,
     "metadata": {},
     "output_type": "execute_result"
    }
   ],
   "source": [
    "733/52306"
   ]
  },
  {
   "cell_type": "markdown",
   "metadata": {},
   "source": [
    "If we go ahead and delete this data, only 1.4% of the data will be removed. We will go ahead and remove these rows."
   ]
  },
  {
   "cell_type": "code",
   "execution_count": 45,
   "metadata": {},
   "outputs": [],
   "source": [
    "train.drop(train[train['Age']>100].index, inplace=True)"
   ]
  },
  {
   "cell_type": "code",
   "execution_count": 46,
   "metadata": {},
   "outputs": [
    {
     "data": {
      "text/plain": [
       "51573"
      ]
     },
     "execution_count": 46,
     "metadata": {},
     "output_type": "execute_result"
    }
   ],
   "source": [
    "train.shape[0]"
   ]
  },
  {
   "cell_type": "code",
   "execution_count": 47,
   "metadata": {},
   "outputs": [
    {
     "data": {
      "image/png": "[encoded data removed]",
      "text/plain": [
       "<Figure size 504x360 with 1 Axes>"
      ]
     },
     "metadata": {
      "needs_background": "light"
     },
     "output_type": "display_data"
    }
   ],
   "source": [
    "# lets look at the Distribution of Age now after removing the outliers\n",
    "plt.figure(figsize=(7,5))\n",
    "plt.xlabel('Age')\n",
    "plt.title('Distribution of Age')\n",
    "sns.distplot(train['Age'], hist=False)\n",
    "plt.show()"
   ]
  },
  {
   "cell_type": "code",
   "execution_count": 48,
   "metadata": {},
   "outputs": [
    {
     "data": {
      "image/png": "[encoded data removed]",
      "text/plain": [
       "<Figure size 504x360 with 1 Axes>"
      ]
     },
     "metadata": {
      "needs_background": "light"
     },
     "output_type": "display_data"
    }
   ],
   "source": [
    "# lets look at the distribution of Age wrt Claims\n",
    "plt.figure(figsize=(7,5))\n",
    "plt.title('Distribution of Age wrt Claims')\n",
    "ax = sns.boxplot(x = 'Claim', y='Age', data=train)"
   ]
  },
  {
   "cell_type": "markdown",
   "metadata": {},
   "source": [
    "Age for positive claims is more positively skewed while Age for Negative claims is skewed on both sides\n",
    "Distribution of Age for positive claims is wider than the distribution of Age for negative claims"
   ]
  },
  {
   "cell_type": "markdown",
   "metadata": {},
   "source": [
    "Lets check for the relationship between Age and the dependent variable 'Claims' using T tests"
   ]
  },
  {
   "cell_type": "code",
   "execution_count": 49,
   "metadata": {},
   "outputs": [
    {
     "name": "stdout",
     "output_type": "stream",
     "text": [
      "The p value is 6.308676128705656e-43\n",
      "Given the p value of 6.308676128705656e-43 we reject the Null Hypothesis that variables Age and Claim Status are significantly independent\n"
     ]
    }
   ],
   "source": [
    "# Lets check for the significance of the Age variable\n",
    "A0 = train[train['Claim']==0]['Age'].values.tolist()\n",
    "A1 = train[train['Claim']==1]['Age'].values.tolist()\n",
    "stats, p = ttest_ind(A0,A1)\n",
    "print('The p value is', str(p))\n",
    "if (p < 0.05):\n",
    "    print('Given the p value of', p, 'we reject the Null Hypothesis that variables Age and Claim Status are significantly independent')\n",
    "else:\n",
    "    print('Given the p value of', p, 'we fail to reject the Null Hypothesis that variables Age and Claim Status are significantly independent')"
   ]
  },
  {
   "cell_type": "markdown",
   "metadata": {},
   "source": [
    "Variable 8: Net Sales"
   ]
  },
  {
   "cell_type": "code",
   "execution_count": 50,
   "metadata": {},
   "outputs": [
    {
     "data": {
      "text/plain": [
       "count    51573.000000\n",
       "mean        48.541944\n",
       "std         60.448170\n",
       "min       -389.000000\n",
       "25%         19.800000\n",
       "50%         29.000000\n",
       "75%         55.000000\n",
       "max        682.000000\n",
       "Name: Net Sales, dtype: float64"
      ]
     },
     "execution_count": 50,
     "metadata": {},
     "output_type": "execute_result"
    }
   ],
   "source": [
    "train['Net Sales'].describe()"
   ]
  },
  {
   "cell_type": "code",
   "execution_count": 51,
   "metadata": {},
   "outputs": [
    {
     "data": {
      "text/plain": [
       "0    12.0\n",
       "1    17.0\n",
       "2    19.8\n",
       "3    27.0\n",
       "4    37.0\n",
       "Name: Net Sales, dtype: float64"
      ]
     },
     "execution_count": 51,
     "metadata": {},
     "output_type": "execute_result"
    }
   ],
   "source": [
    "train['Net Sales'].head()"
   ]
  },
  {
   "cell_type": "code",
   "execution_count": 52,
   "metadata": {},
   "outputs": [
    {
     "data": {
      "text/html": [
       "<div>\n",
       "<style scoped>\n",
       "    .dataframe tbody tr th:only-of-type {\n",
       "        vertical-align: middle;\n",
       "    }\n",
       "\n",
       "    .dataframe tbody tr th {\n",
       "        vertical-align: top;\n",
       "    }\n",
       "\n",
       "    .dataframe thead th {\n",
       "        text-align: right;\n",
       "    }\n",
       "</style>\n",
       "<table border=\"1\" class=\"dataframe\">\n",
       "  <thead>\n",
       "    <tr style=\"text-align: right;\">\n",
       "      <th></th>\n",
       "      <th>Agency</th>\n",
       "      <th>Agency Type</th>\n",
       "      <th>Distribution Channel</th>\n",
       "      <th>Product Name</th>\n",
       "      <th>Duration</th>\n",
       "      <th>Destination</th>\n",
       "      <th>Net Sales</th>\n",
       "      <th>Commission</th>\n",
       "      <th>Age</th>\n",
       "      <th>Claim</th>\n",
       "    </tr>\n",
       "  </thead>\n",
       "  <tbody>\n",
       "    <tr>\n",
       "      <th>104</th>\n",
       "      <td>CWT</td>\n",
       "      <td>Travel Agency</td>\n",
       "      <td>Online</td>\n",
       "      <td>Rental Vehicle Excess Insurance</td>\n",
       "      <td>81</td>\n",
       "      <td>UNITED KINGDOM</td>\n",
       "      <td>-128.7</td>\n",
       "      <td>77.22</td>\n",
       "      <td>63</td>\n",
       "      <td>0</td>\n",
       "    </tr>\n",
       "    <tr>\n",
       "      <th>147</th>\n",
       "      <td>EPX</td>\n",
       "      <td>Travel Agency</td>\n",
       "      <td>Online</td>\n",
       "      <td>Cancellation Plan</td>\n",
       "      <td>15</td>\n",
       "      <td>CANADA</td>\n",
       "      <td>-17.0</td>\n",
       "      <td>0.00</td>\n",
       "      <td>24</td>\n",
       "      <td>0</td>\n",
       "    </tr>\n",
       "    <tr>\n",
       "      <th>190</th>\n",
       "      <td>CWT</td>\n",
       "      <td>Travel Agency</td>\n",
       "      <td>Online</td>\n",
       "      <td>Rental Vehicle Excess Insurance</td>\n",
       "      <td>178</td>\n",
       "      <td>AUSTRALIA</td>\n",
       "      <td>-69.3</td>\n",
       "      <td>41.58</td>\n",
       "      <td>29</td>\n",
       "      <td>0</td>\n",
       "    </tr>\n",
       "    <tr>\n",
       "      <th>485</th>\n",
       "      <td>C2B</td>\n",
       "      <td>Airlines</td>\n",
       "      <td>Online</td>\n",
       "      <td>Annual Silver Plan</td>\n",
       "      <td>364</td>\n",
       "      <td>SINGAPORE</td>\n",
       "      <td>-389.0</td>\n",
       "      <td>97.25</td>\n",
       "      <td>27</td>\n",
       "      <td>0</td>\n",
       "    </tr>\n",
       "    <tr>\n",
       "      <th>587</th>\n",
       "      <td>CWT</td>\n",
       "      <td>Travel Agency</td>\n",
       "      <td>Online</td>\n",
       "      <td>Rental Vehicle Excess Insurance</td>\n",
       "      <td>31</td>\n",
       "      <td>JAPAN</td>\n",
       "      <td>-69.3</td>\n",
       "      <td>41.58</td>\n",
       "      <td>26</td>\n",
       "      <td>0</td>\n",
       "    </tr>\n",
       "    <tr>\n",
       "      <th>...</th>\n",
       "      <td>...</td>\n",
       "      <td>...</td>\n",
       "      <td>...</td>\n",
       "      <td>...</td>\n",
       "      <td>...</td>\n",
       "      <td>...</td>\n",
       "      <td>...</td>\n",
       "      <td>...</td>\n",
       "      <td>...</td>\n",
       "      <td>...</td>\n",
       "    </tr>\n",
       "    <tr>\n",
       "      <th>52023</th>\n",
       "      <td>CWT</td>\n",
       "      <td>Travel Agency</td>\n",
       "      <td>Online</td>\n",
       "      <td>Rental Vehicle Excess Insurance</td>\n",
       "      <td>11</td>\n",
       "      <td>FRANCE</td>\n",
       "      <td>-29.7</td>\n",
       "      <td>17.82</td>\n",
       "      <td>26</td>\n",
       "      <td>0</td>\n",
       "    </tr>\n",
       "    <tr>\n",
       "      <th>52119</th>\n",
       "      <td>CWT</td>\n",
       "      <td>Travel Agency</td>\n",
       "      <td>Online</td>\n",
       "      <td>Rental Vehicle Excess Insurance</td>\n",
       "      <td>193</td>\n",
       "      <td>ITALY</td>\n",
       "      <td>-277.2</td>\n",
       "      <td>166.32</td>\n",
       "      <td>65</td>\n",
       "      <td>0</td>\n",
       "    </tr>\n",
       "    <tr>\n",
       "      <th>52154</th>\n",
       "      <td>CWT</td>\n",
       "      <td>Travel Agency</td>\n",
       "      <td>Online</td>\n",
       "      <td>Rental Vehicle Excess Insurance</td>\n",
       "      <td>196</td>\n",
       "      <td>AUSTRALIA</td>\n",
       "      <td>-69.3</td>\n",
       "      <td>41.58</td>\n",
       "      <td>66</td>\n",
       "      <td>0</td>\n",
       "    </tr>\n",
       "    <tr>\n",
       "      <th>52163</th>\n",
       "      <td>EPX</td>\n",
       "      <td>Travel Agency</td>\n",
       "      <td>Online</td>\n",
       "      <td>Cancellation Plan</td>\n",
       "      <td>18</td>\n",
       "      <td>JAPAN</td>\n",
       "      <td>-45.0</td>\n",
       "      <td>0.00</td>\n",
       "      <td>54</td>\n",
       "      <td>0</td>\n",
       "    </tr>\n",
       "    <tr>\n",
       "      <th>52242</th>\n",
       "      <td>EPX</td>\n",
       "      <td>Travel Agency</td>\n",
       "      <td>Online</td>\n",
       "      <td>Cancellation Plan</td>\n",
       "      <td>261</td>\n",
       "      <td>UNITED STATES</td>\n",
       "      <td>-80.0</td>\n",
       "      <td>0.00</td>\n",
       "      <td>71</td>\n",
       "      <td>0</td>\n",
       "    </tr>\n",
       "  </tbody>\n",
       "</table>\n",
       "<p>494 rows × 10 columns</p>\n",
       "</div>"
      ],
      "text/plain": [
       "      Agency    Agency Type Distribution Channel  \\\n",
       "104      CWT  Travel Agency               Online   \n",
       "147      EPX  Travel Agency               Online   \n",
       "190      CWT  Travel Agency               Online   \n",
       "485      C2B       Airlines               Online   \n",
       "587      CWT  Travel Agency               Online   \n",
       "...      ...            ...                  ...   \n",
       "52023    CWT  Travel Agency               Online   \n",
       "52119    CWT  Travel Agency               Online   \n",
       "52154    CWT  Travel Agency               Online   \n",
       "52163    EPX  Travel Agency               Online   \n",
       "52242    EPX  Travel Agency               Online   \n",
       "\n",
       "                          Product Name  Duration     Destination  Net Sales  \\\n",
       "104    Rental Vehicle Excess Insurance        81  UNITED KINGDOM     -128.7   \n",
       "147                  Cancellation Plan        15          CANADA      -17.0   \n",
       "190    Rental Vehicle Excess Insurance       178       AUSTRALIA      -69.3   \n",
       "485                 Annual Silver Plan       364       SINGAPORE     -389.0   \n",
       "587    Rental Vehicle Excess Insurance        31           JAPAN      -69.3   \n",
       "...                                ...       ...             ...        ...   \n",
       "52023  Rental Vehicle Excess Insurance        11          FRANCE      -29.7   \n",
       "52119  Rental Vehicle Excess Insurance       193           ITALY     -277.2   \n",
       "52154  Rental Vehicle Excess Insurance       196       AUSTRALIA      -69.3   \n",
       "52163                Cancellation Plan        18           JAPAN      -45.0   \n",
       "52242                Cancellation Plan       261   UNITED STATES      -80.0   \n",
       "\n",
       "       Commission  Age Claim  \n",
       "104         77.22   63     0  \n",
       "147          0.00   24     0  \n",
       "190         41.58   29     0  \n",
       "485         97.25   27     0  \n",
       "587         41.58   26     0  \n",
       "...           ...  ...   ...  \n",
       "52023       17.82   26     0  \n",
       "52119      166.32   65     0  \n",
       "52154       41.58   66     0  \n",
       "52163        0.00   54     0  \n",
       "52242        0.00   71     0  \n",
       "\n",
       "[494 rows x 10 columns]"
      ]
     },
     "execution_count": 52,
     "metadata": {},
     "output_type": "execute_result"
    }
   ],
   "source": [
    "train[train['Net Sales']<0]"
   ]
  },
  {
   "cell_type": "markdown",
   "metadata": {},
   "source": [
    "At a policy level, net sales cannot be negative. We should consider removing these rows. "
   ]
  },
  {
   "cell_type": "code",
   "execution_count": 53,
   "metadata": {},
   "outputs": [
    {
     "data": {
      "text/plain": [
       "51573"
      ]
     },
     "execution_count": 53,
     "metadata": {},
     "output_type": "execute_result"
    }
   ],
   "source": [
    "train.shape[0]"
   ]
  },
  {
   "cell_type": "code",
   "execution_count": 54,
   "metadata": {},
   "outputs": [],
   "source": [
    "train.drop(train[train['Net Sales']<0].index, inplace=True)"
   ]
  },
  {
   "cell_type": "code",
   "execution_count": 55,
   "metadata": {},
   "outputs": [
    {
     "data": {
      "text/plain": [
       "51079"
      ]
     },
     "execution_count": 55,
     "metadata": {},
     "output_type": "execute_result"
    }
   ],
   "source": [
    "train.shape[0]"
   ]
  },
  {
   "cell_type": "code",
   "execution_count": 56,
   "metadata": {},
   "outputs": [
    {
     "data": {
      "image/png": "[encoded data removed]",
      "text/plain": [
       "<Figure size 504x360 with 1 Axes>"
      ]
     },
     "metadata": {
      "needs_background": "light"
     },
     "output_type": "display_data"
    }
   ],
   "source": [
    "# lets look at the Distribution of Net Sales now after removing the negative values\n",
    "plt.figure(figsize=(7,5))\n",
    "plt.xlabel('Age')\n",
    "plt.title('Distribution of Net Sales')\n",
    "sns.distplot(train['Net Sales'], hist=False)\n",
    "plt.show()"
   ]
  },
  {
   "cell_type": "code",
   "execution_count": 57,
   "metadata": {},
   "outputs": [
    {
     "data": {
      "image/png": "[encoded data removed]",
      "text/plain": [
       "<Figure size 504x360 with 1 Axes>"
      ]
     },
     "metadata": {
      "needs_background": "light"
     },
     "output_type": "display_data"
    }
   ],
   "source": [
    "# lets look at the distribution of Net Sales wrt Claims\n",
    "plt.figure(figsize=(7,5))\n",
    "plt.title('Distribution of Net Sales wrt Claims')\n",
    "ax = sns.boxplot(x = 'Claim', y='Net Sales', data=train)"
   ]
  },
  {
   "cell_type": "markdown",
   "metadata": {},
   "source": [
    "Lets check for the relationship between Net Sales and the dependent variable 'Claims' using T tests"
   ]
  },
  {
   "cell_type": "code",
   "execution_count": 58,
   "metadata": {},
   "outputs": [
    {
     "name": "stdout",
     "output_type": "stream",
     "text": [
      "The p value is 0.0\n",
      "Given the p value of 0.0 we reject the Null Hypothesis that variables Net Sales and Claim Status are significantly independent\n"
     ]
    }
   ],
   "source": [
    "# Lets check for the significance of the Net Sales variable\n",
    "A0 = train[train['Claim']==0]['Net Sales'].values.tolist()\n",
    "A1 = train[train['Claim']==1]['Net Sales'].values.tolist()\n",
    "stats, p = ttest_ind(A0,A1)\n",
    "print('The p value is', str(p))\n",
    "if (p < 0.05):\n",
    "    print('Given the p value of', p, 'we reject the Null Hypothesis that variables Net Sales and Claim Status are significantly independent')\n",
    "else:\n",
    "    print('Given the p value of', p, 'we fail to reject the Null Hypothesis that variables Net Sales and Claim Status are significantly independent')"
   ]
  },
  {
   "cell_type": "markdown",
   "metadata": {},
   "source": [
    "Variable 9: Commissions"
   ]
  },
  {
   "cell_type": "code",
   "execution_count": 59,
   "metadata": {},
   "outputs": [
    {
     "data": {
      "text/plain": [
       "count    51079.000000\n",
       "mean        12.015410\n",
       "std         22.855017\n",
       "min          0.000000\n",
       "25%          0.000000\n",
       "50%          0.000000\n",
       "75%         12.851546\n",
       "max        262.760000\n",
       "Name: Commission, dtype: float64"
      ]
     },
     "execution_count": 59,
     "metadata": {},
     "output_type": "execute_result"
    }
   ],
   "source": [
    "train['Commission'].describe()"
   ]
  },
  {
   "cell_type": "code",
   "execution_count": 60,
   "metadata": {},
   "outputs": [
    {
     "data": {
      "image/png": "[encoded data removed]",
      "text/plain": [
       "<Figure size 504x360 with 1 Axes>"
      ]
     },
     "metadata": {
      "needs_background": "light"
     },
     "output_type": "display_data"
    }
   ],
   "source": [
    "# lets look at the Distribution of Commission \n",
    "plt.figure(figsize=(7,5))\n",
    "plt.xlabel('Age')\n",
    "plt.title('Distribution of Commission')\n",
    "sns.distplot(train['Commission'], hist=False)\n",
    "plt.show()"
   ]
  },
  {
   "cell_type": "code",
   "execution_count": 61,
   "metadata": {},
   "outputs": [
    {
     "data": {
      "image/png": "[encoded data removed]",
      "text/plain": [
       "<Figure size 504x360 with 1 Axes>"
      ]
     },
     "metadata": {
      "needs_background": "light"
     },
     "output_type": "display_data"
    }
   ],
   "source": [
    "# lets look at the distribution of Commission wrt Claims\n",
    "plt.figure(figsize=(7,5))\n",
    "plt.title('Distribution of Commission wrt Claims')\n",
    "ax = sns.boxplot(x = 'Claim', y='Commission', data=train)"
   ]
  },
  {
   "cell_type": "markdown",
   "metadata": {},
   "source": [
    "Lets check for the relationship between Commission and the dependent variable 'Claims' using T tests"
   ]
  },
  {
   "cell_type": "code",
   "execution_count": 62,
   "metadata": {},
   "outputs": [
    {
     "name": "stdout",
     "output_type": "stream",
     "text": [
      "The p value is 0.0\n",
      "Given the p value of 0.0 we reject the Null Hypothesis that variables Commission and Claim Status are significantly independent\n"
     ]
    }
   ],
   "source": [
    "# Lets check for the significance of the Commission variable\n",
    "A0 = train[train['Claim']==0]['Commission'].values.tolist()\n",
    "A1 = train[train['Claim']==1]['Commission'].values.tolist()\n",
    "stats, p = ttest_ind(A0,A1)\n",
    "print('The p value is', str(p))\n",
    "if (p < 0.05):\n",
    "    print('Given the p value of', p, 'we reject the Null Hypothesis that variables Commission and Claim Status are significantly independent')\n",
    "else:\n",
    "    print('Given the p value of', p, 'we fail to reject the Null Hypothesis that variables Commission and Claim Status are significantly independent')"
   ]
  },
  {
   "cell_type": "markdown",
   "metadata": {},
   "source": [
    "Variable 10 : Claims"
   ]
  },
  {
   "cell_type": "code",
   "execution_count": 63,
   "metadata": {},
   "outputs": [
    {
     "data": {
      "text/plain": [
       "0    42444\n",
       "1     8635\n",
       "Name: Claim, dtype: int64"
      ]
     },
     "execution_count": 63,
     "metadata": {},
     "output_type": "execute_result"
    }
   ],
   "source": [
    "train['Claim'].value_counts()"
   ]
  },
  {
   "cell_type": "code",
   "execution_count": 64,
   "metadata": {},
   "outputs": [
    {
     "data": {
      "image/png": "[encoded data removed]",
      "text/plain": [
       "<Figure size 576x360 with 1 Axes>"
      ]
     },
     "metadata": {
      "needs_background": "light"
     },
     "output_type": "display_data"
    }
   ],
   "source": [
    "plt.figure(figsize=(8,5))\n",
    "train['Claim'].value_counts().plot(kind='bar', title='Break Up of Claims')\n",
    "plt.show()"
   ]
  },
  {
   "cell_type": "markdown",
   "metadata": {},
   "source": [
    "# Check for Correlations"
   ]
  },
  {
   "cell_type": "code",
   "execution_count": 65,
   "metadata": {},
   "outputs": [],
   "source": [
    "num_col=['Duration','Net Sales','Commission', 'Age']\n",
    "cat_col=['Agency','Agency Type','Distribution Channel','Product Name','Destination']"
   ]
  },
  {
   "cell_type": "code",
   "execution_count": 66,
   "metadata": {},
   "outputs": [],
   "source": [
    "cor = train[num_col].corr()"
   ]
  },
  {
   "cell_type": "code",
   "execution_count": 67,
   "metadata": {},
   "outputs": [
    {
     "data": {
      "text/plain": [
       "<matplotlib.axes._subplots.AxesSubplot at 0x1efff1fe5f8>"
      ]
     },
     "execution_count": 67,
     "metadata": {},
     "output_type": "execute_result"
    },
    {
     "data": {
      "image/png": "[encoded data removed]",
      "text/plain": [
       "<Figure size 576x576 with 2 Axes>"
      ]
     },
     "metadata": {
      "needs_background": "light"
     },
     "output_type": "display_data"
    }
   ],
   "source": [
    "mask = np.zeros_like(cor, dtype=np.bool)\n",
    "mask[np.triu_indices_from(mask)] = True\n",
    "f, ax = plt.subplots(figsize=(8,8))\n",
    "sns.heatmap(cor, mask=mask, ax=ax,vmin=-1, vmax=1, annot=True,square= True, linewidths=1)"
   ]
  },
  {
   "cell_type": "markdown",
   "metadata": {},
   "source": [
    "None of the correlation values are too high. We will retain all the variables for now."
   ]
  },
  {
   "cell_type": "markdown",
   "metadata": {},
   "source": [
    "# Outlier Detection"
   ]
  },
  {
   "cell_type": "code",
   "execution_count": 68,
   "metadata": {},
   "outputs": [
    {
     "name": "stdout",
     "output_type": "stream",
     "text": [
      "**************************************************\n",
      "Column Name: Duration\n",
      "Minimum Value : -60.5\n",
      "Maximum Value: 127.5\n",
      "Outliers in variable Duration are 5374\n",
      "**************************************************\n",
      "Column Name: Net Sales\n",
      "Minimum Value : -34.0\n",
      "Maximum Value: 110.0\n",
      "Outliers in variable Net Sales are 4749\n",
      "**************************************************\n",
      "Column Name: Commission\n",
      "Minimum Value : -19.277318711937355\n",
      "Maximum Value: 32.128864519895586\n",
      "Outliers in variable Commission are 6239\n",
      "**************************************************\n",
      "Column Name: Age\n",
      "Minimum Value : 19.5\n",
      "Maximum Value: 55.5\n",
      "Outliers in variable Age are 4260\n"
     ]
    }
   ],
   "source": [
    "for col in num_col:\n",
    "    q75,q25 = np.percentile(train.loc[:,col],[75,25])\n",
    "    iqr = q75-q25\n",
    "    minn = q25 - (1.5*iqr)\n",
    "    maxx = q75 + (1.5*iqr)\n",
    "    print('*'*50)\n",
    "    print('Column Name:', col)\n",
    "    print('Minimum Value :', minn)\n",
    "    print('Maximum Value:', maxx)\n",
    "    print('Outliers in variable', col,'are', (train.loc[train.loc[:,col]<minn,col].count() + train.loc[train.loc[:,col]>maxx,col].count()))"
   ]
  },
  {
   "cell_type": "markdown",
   "metadata": {},
   "source": [
    "There is considerable skew in the data . We will account for the skewness in the next section."
   ]
  },
  {
   "cell_type": "markdown",
   "metadata": {},
   "source": [
    "# Feature Engineering"
   ]
  },
  {
   "cell_type": "markdown",
   "metadata": {},
   "source": [
    "We will create additional features for Product and Destination. "
   ]
  },
  {
   "cell_type": "code",
   "execution_count": 69,
   "metadata": {},
   "outputs": [],
   "source": [
    "train['Singapore'] = np.where(train['Destination']=='Singapore', 1, 0)\n",
    "train['Cancellation Plan'] = np.where(train['Product Name']=='Cancellation Plan', 1, 0)\n",
    "train['2 way Comprehensive Plan'] = np.where(train['Product Name']=='2 way Comprehensive Plan', 1, 0)\n",
    "train['EPX'] = np.where(train['Agency']=='EPX', 1, 0)"
   ]
  },
  {
   "cell_type": "code",
   "execution_count": 70,
   "metadata": {},
   "outputs": [],
   "source": [
    "train['Singapore'] = train['Singapore'].astype('object')\n",
    "train['Cancellation Plan'] = train['Cancellation Plan'].astype('object')\n",
    "train['2 way Comprehensive Plan'] = train['2 way Comprehensive Plan'].astype('object')\n",
    "train['EPX'] = train['EPX'].astype('object')"
   ]
  },
  {
   "cell_type": "code",
   "execution_count": 76,
   "metadata": {},
   "outputs": [
    {
     "data": {
      "text/html": [
       "<div>\n",
       "<style scoped>\n",
       "    .dataframe tbody tr th:only-of-type {\n",
       "        vertical-align: middle;\n",
       "    }\n",
       "\n",
       "    .dataframe tbody tr th {\n",
       "        vertical-align: top;\n",
       "    }\n",
       "\n",
       "    .dataframe thead th {\n",
       "        text-align: right;\n",
       "    }\n",
       "</style>\n",
       "<table border=\"1\" class=\"dataframe\">\n",
       "  <thead>\n",
       "    <tr style=\"text-align: right;\">\n",
       "      <th></th>\n",
       "      <th>Agency</th>\n",
       "      <th>Agency Type</th>\n",
       "      <th>Distribution Channel</th>\n",
       "      <th>Product Name</th>\n",
       "      <th>Duration</th>\n",
       "      <th>Destination</th>\n",
       "      <th>Net Sales</th>\n",
       "      <th>Commission</th>\n",
       "      <th>Age</th>\n",
       "      <th>Claim</th>\n",
       "      <th>Singapore</th>\n",
       "      <th>Cancellation Plan</th>\n",
       "      <th>2 way Comprehensive Plan</th>\n",
       "      <th>EPX</th>\n",
       "    </tr>\n",
       "  </thead>\n",
       "  <tbody>\n",
       "    <tr>\n",
       "      <th>0</th>\n",
       "      <td>EPX</td>\n",
       "      <td>Travel Agency</td>\n",
       "      <td>Online</td>\n",
       "      <td>Cancellation Plan</td>\n",
       "      <td>61</td>\n",
       "      <td>PHILIPPINES</td>\n",
       "      <td>12.0</td>\n",
       "      <td>0.00</td>\n",
       "      <td>41</td>\n",
       "      <td>0</td>\n",
       "      <td>0</td>\n",
       "      <td>1</td>\n",
       "      <td>0</td>\n",
       "      <td>1</td>\n",
       "    </tr>\n",
       "    <tr>\n",
       "      <th>1</th>\n",
       "      <td>EPX</td>\n",
       "      <td>Travel Agency</td>\n",
       "      <td>Online</td>\n",
       "      <td>Cancellation Plan</td>\n",
       "      <td>4</td>\n",
       "      <td>MALAYSIA</td>\n",
       "      <td>17.0</td>\n",
       "      <td>0.00</td>\n",
       "      <td>35</td>\n",
       "      <td>0</td>\n",
       "      <td>0</td>\n",
       "      <td>1</td>\n",
       "      <td>0</td>\n",
       "      <td>1</td>\n",
       "    </tr>\n",
       "    <tr>\n",
       "      <th>2</th>\n",
       "      <td>CWT</td>\n",
       "      <td>Travel Agency</td>\n",
       "      <td>Online</td>\n",
       "      <td>Rental Vehicle Excess Insurance</td>\n",
       "      <td>26</td>\n",
       "      <td>THAILAND</td>\n",
       "      <td>19.8</td>\n",
       "      <td>11.88</td>\n",
       "      <td>47</td>\n",
       "      <td>0</td>\n",
       "      <td>0</td>\n",
       "      <td>0</td>\n",
       "      <td>0</td>\n",
       "      <td>0</td>\n",
       "    </tr>\n",
       "    <tr>\n",
       "      <th>3</th>\n",
       "      <td>EPX</td>\n",
       "      <td>Travel Agency</td>\n",
       "      <td>Online</td>\n",
       "      <td>2 way Comprehensive Plan</td>\n",
       "      <td>15</td>\n",
       "      <td>HONG KONG</td>\n",
       "      <td>27.0</td>\n",
       "      <td>0.00</td>\n",
       "      <td>48</td>\n",
       "      <td>0</td>\n",
       "      <td>0</td>\n",
       "      <td>0</td>\n",
       "      <td>1</td>\n",
       "      <td>1</td>\n",
       "    </tr>\n",
       "    <tr>\n",
       "      <th>4</th>\n",
       "      <td>EPX</td>\n",
       "      <td>Travel Agency</td>\n",
       "      <td>Online</td>\n",
       "      <td>2 way Comprehensive Plan</td>\n",
       "      <td>15</td>\n",
       "      <td>MALAYSIA</td>\n",
       "      <td>37.0</td>\n",
       "      <td>0.00</td>\n",
       "      <td>36</td>\n",
       "      <td>0</td>\n",
       "      <td>0</td>\n",
       "      <td>0</td>\n",
       "      <td>1</td>\n",
       "      <td>1</td>\n",
       "    </tr>\n",
       "  </tbody>\n",
       "</table>\n",
       "</div>"
      ],
      "text/plain": [
       "  Agency    Agency Type Distribution Channel                     Product Name  \\\n",
       "0    EPX  Travel Agency               Online                Cancellation Plan   \n",
       "1    EPX  Travel Agency               Online                Cancellation Plan   \n",
       "2    CWT  Travel Agency               Online  Rental Vehicle Excess Insurance   \n",
       "3    EPX  Travel Agency               Online         2 way Comprehensive Plan   \n",
       "4    EPX  Travel Agency               Online         2 way Comprehensive Plan   \n",
       "\n",
       "   Duration  Destination  Net Sales  Commission  Age Claim Singapore  \\\n",
       "0        61  PHILIPPINES       12.0        0.00   41     0         0   \n",
       "1         4     MALAYSIA       17.0        0.00   35     0         0   \n",
       "2        26     THAILAND       19.8       11.88   47     0         0   \n",
       "3        15    HONG KONG       27.0        0.00   48     0         0   \n",
       "4        15     MALAYSIA       37.0        0.00   36     0         0   \n",
       "\n",
       "  Cancellation Plan 2 way Comprehensive Plan EPX  \n",
       "0                 1                        0   1  \n",
       "1                 1                        0   1  \n",
       "2                 0                        0   0  \n",
       "3                 0                        1   1  \n",
       "4                 0                        1   1  "
      ]
     },
     "execution_count": 76,
     "metadata": {},
     "output_type": "execute_result"
    }
   ],
   "source": [
    "train.head()"
   ]
  },
  {
   "cell_type": "markdown",
   "metadata": {},
   "source": [
    "# Data PreProcessing"
   ]
  },
  {
   "cell_type": "code",
   "execution_count": 77,
   "metadata": {},
   "outputs": [],
   "source": [
    "# Categorical Variables"
   ]
  },
  {
   "cell_type": "code",
   "execution_count": 78,
   "metadata": {},
   "outputs": [
    {
     "data": {
      "text/plain": [
       "Index(['Agency', 'Agency Type', 'Distribution Channel', 'Product Name',\n",
       "       'Destination', 'Singapore', 'Cancellation Plan',\n",
       "       '2 way Comprehensive Plan', 'EPX'],\n",
       "      dtype='object')"
      ]
     },
     "execution_count": 78,
     "metadata": {},
     "output_type": "execute_result"
    }
   ],
   "source": [
    "cat_col = train.select_dtypes(include='object').columns\n",
    "cat_col"
   ]
  },
  {
   "cell_type": "code",
   "execution_count": 79,
   "metadata": {},
   "outputs": [],
   "source": [
    "# Reducing the Counts of Destination"
   ]
  },
  {
   "cell_type": "markdown",
   "metadata": {},
   "source": [
    "The value counts for the variable 'Destination' is very high. We can look at grouping the less frequent classes together"
   ]
  },
  {
   "cell_type": "markdown",
   "metadata": {},
   "source": [
    "We can look at clubbing all the destinations that have counts less than 50 into 'Others'"
   ]
  },
  {
   "cell_type": "code",
   "execution_count": 80,
   "metadata": {},
   "outputs": [],
   "source": [
    "top_destination = train['Destination'].value_counts().head(43).index.tolist()"
   ]
  },
  {
   "cell_type": "code",
   "execution_count": 81,
   "metadata": {},
   "outputs": [],
   "source": [
    "train['Destination'] = np.where(train['Destination'].isin (top_destination), train['Destination'], 'OTHERS')\n",
    "#test['Destination'] = np.where(test['Destination'].isin (top_destination), test['Destination'], 'OTHERS')"
   ]
  },
  {
   "cell_type": "code",
   "execution_count": 82,
   "metadata": {},
   "outputs": [
    {
     "data": {
      "text/plain": [
       "SINGAPORE                           14170\n",
       "THAILAND                             4501\n",
       "MALAYSIA                             4291\n",
       "CHINA                                3857\n",
       "AUSTRALIA                            2914\n",
       "INDONESIA                            2495\n",
       "UNITED STATES                        2161\n",
       "PHILIPPINES                          1780\n",
       "HONG KONG                            1753\n",
       "JAPAN                                1588\n",
       "VIET NAM                             1202\n",
       "KOREA, REPUBLIC OF                   1140\n",
       "INDIA                                1043\n",
       "UNITED KINGDOM                       1018\n",
       "TAIWAN, PROVINCE OF CHINA             811\n",
       "OTHERS                                707\n",
       "MYANMAR                               588\n",
       "BRUNEI DARUSSALAM                     562\n",
       "ITALY                                 392\n",
       "CANADA                                379\n",
       "NEW ZEALAND                           374\n",
       "CAMBODIA                              358\n",
       "FRANCE                                321\n",
       "GERMANY                               315\n",
       "NETHERLANDS                           297\n",
       "SPAIN                                 257\n",
       "UNITED ARAB EMIRATES                  210\n",
       "SWITZERLAND                           177\n",
       "SRI LANKA                             174\n",
       "SOUTH AFRICA                          148\n",
       "NEPAL                                 123\n",
       "NORWAY                                114\n",
       "LAO PEOPLE'S DEMOCRATIC REPUBLIC      105\n",
       "IRELAND                                87\n",
       "ICELAND                                78\n",
       "MACAO                                  72\n",
       "DENMARK                                71\n",
       "GREECE                                 66\n",
       "PORTUGAL                               65\n",
       "PERU                                   65\n",
       "BANGLADESH                             64\n",
       "AUSTRIA                                63\n",
       "FINLAND                                62\n",
       "TURKEY                                 61\n",
       "Name: Destination, dtype: int64"
      ]
     },
     "execution_count": 82,
     "metadata": {},
     "output_type": "execute_result"
    }
   ],
   "source": [
    "train['Destination'].value_counts()"
   ]
  },
  {
   "cell_type": "code",
   "execution_count": 83,
   "metadata": {},
   "outputs": [
    {
     "data": {
      "text/plain": [
       "44"
      ]
     },
     "execution_count": 83,
     "metadata": {},
     "output_type": "execute_result"
    }
   ],
   "source": [
    "train['Destination'].nunique()"
   ]
  },
  {
   "cell_type": "markdown",
   "metadata": {},
   "source": [
    "The number of value counts have decreased from 97 to 44. "
   ]
  },
  {
   "cell_type": "code",
   "execution_count": 84,
   "metadata": {},
   "outputs": [],
   "source": [
    "# Label Encode the categorical variables "
   ]
  },
  {
   "cell_type": "code",
   "execution_count": 85,
   "metadata": {},
   "outputs": [],
   "source": [
    "le = LabelEncoder()"
   ]
  },
  {
   "cell_type": "code",
   "execution_count": 86,
   "metadata": {},
   "outputs": [],
   "source": [
    "train['Destination'] = le.fit_transform(train['Destination'])\n",
    "# test['Destination'] = le.fit_transform(test['Destination'])"
   ]
  },
  {
   "cell_type": "code",
   "execution_count": 87,
   "metadata": {},
   "outputs": [],
   "source": [
    "train['Product Name'] = le.fit_transform(train['Product Name'])\n",
    "# test['Product Name'] = le.transform(test['Product Name'])"
   ]
  },
  {
   "cell_type": "code",
   "execution_count": 88,
   "metadata": {},
   "outputs": [],
   "source": [
    "train['Distribution Channel'] = le.fit_transform(train['Distribution Channel'])\n",
    "# test['Distribution Channel'] = le.transform(test['Distribution Channel'])"
   ]
  },
  {
   "cell_type": "code",
   "execution_count": 89,
   "metadata": {},
   "outputs": [],
   "source": [
    "train['Agency Type'] = le.fit_transform(train['Agency Type'])\n",
    "# test['Agency Type'] = le.transform(test['Agency Type'])"
   ]
  },
  {
   "cell_type": "code",
   "execution_count": 90,
   "metadata": {},
   "outputs": [],
   "source": [
    "train['Agency'] = le.fit_transform(train['Agency'])\n",
    "#test['Agency'] = le.transform(test['Agency'])"
   ]
  },
  {
   "cell_type": "code",
   "execution_count": 91,
   "metadata": {},
   "outputs": [
    {
     "data": {
      "text/html": [
       "<div>\n",
       "<style scoped>\n",
       "    .dataframe tbody tr th:only-of-type {\n",
       "        vertical-align: middle;\n",
       "    }\n",
       "\n",
       "    .dataframe tbody tr th {\n",
       "        vertical-align: top;\n",
       "    }\n",
       "\n",
       "    .dataframe thead th {\n",
       "        text-align: right;\n",
       "    }\n",
       "</style>\n",
       "<table border=\"1\" class=\"dataframe\">\n",
       "  <thead>\n",
       "    <tr style=\"text-align: right;\">\n",
       "      <th></th>\n",
       "      <th>Agency</th>\n",
       "      <th>Agency Type</th>\n",
       "      <th>Distribution Channel</th>\n",
       "      <th>Product Name</th>\n",
       "      <th>Duration</th>\n",
       "      <th>Destination</th>\n",
       "      <th>Net Sales</th>\n",
       "      <th>Commission</th>\n",
       "      <th>Age</th>\n",
       "      <th>Claim</th>\n",
       "      <th>Singapore</th>\n",
       "      <th>Cancellation Plan</th>\n",
       "      <th>2 way Comprehensive Plan</th>\n",
       "      <th>EPX</th>\n",
       "    </tr>\n",
       "  </thead>\n",
       "  <tbody>\n",
       "    <tr>\n",
       "      <th>0</th>\n",
       "      <td>7</td>\n",
       "      <td>1</td>\n",
       "      <td>1</td>\n",
       "      <td>10</td>\n",
       "      <td>61</td>\n",
       "      <td>30</td>\n",
       "      <td>12.0</td>\n",
       "      <td>0.00</td>\n",
       "      <td>41</td>\n",
       "      <td>0</td>\n",
       "      <td>0</td>\n",
       "      <td>1</td>\n",
       "      <td>0</td>\n",
       "      <td>1</td>\n",
       "    </tr>\n",
       "    <tr>\n",
       "      <th>1</th>\n",
       "      <td>7</td>\n",
       "      <td>1</td>\n",
       "      <td>1</td>\n",
       "      <td>10</td>\n",
       "      <td>4</td>\n",
       "      <td>22</td>\n",
       "      <td>17.0</td>\n",
       "      <td>0.00</td>\n",
       "      <td>35</td>\n",
       "      <td>0</td>\n",
       "      <td>0</td>\n",
       "      <td>1</td>\n",
       "      <td>0</td>\n",
       "      <td>1</td>\n",
       "    </tr>\n",
       "    <tr>\n",
       "      <th>2</th>\n",
       "      <td>6</td>\n",
       "      <td>1</td>\n",
       "      <td>1</td>\n",
       "      <td>16</td>\n",
       "      <td>26</td>\n",
       "      <td>38</td>\n",
       "      <td>19.8</td>\n",
       "      <td>11.88</td>\n",
       "      <td>47</td>\n",
       "      <td>0</td>\n",
       "      <td>0</td>\n",
       "      <td>0</td>\n",
       "      <td>0</td>\n",
       "      <td>0</td>\n",
       "    </tr>\n",
       "    <tr>\n",
       "      <th>3</th>\n",
       "      <td>7</td>\n",
       "      <td>1</td>\n",
       "      <td>1</td>\n",
       "      <td>1</td>\n",
       "      <td>15</td>\n",
       "      <td>12</td>\n",
       "      <td>27.0</td>\n",
       "      <td>0.00</td>\n",
       "      <td>48</td>\n",
       "      <td>0</td>\n",
       "      <td>0</td>\n",
       "      <td>0</td>\n",
       "      <td>1</td>\n",
       "      <td>1</td>\n",
       "    </tr>\n",
       "    <tr>\n",
       "      <th>4</th>\n",
       "      <td>7</td>\n",
       "      <td>1</td>\n",
       "      <td>1</td>\n",
       "      <td>1</td>\n",
       "      <td>15</td>\n",
       "      <td>22</td>\n",
       "      <td>37.0</td>\n",
       "      <td>0.00</td>\n",
       "      <td>36</td>\n",
       "      <td>0</td>\n",
       "      <td>0</td>\n",
       "      <td>0</td>\n",
       "      <td>1</td>\n",
       "      <td>1</td>\n",
       "    </tr>\n",
       "    <tr>\n",
       "      <th>5</th>\n",
       "      <td>7</td>\n",
       "      <td>1</td>\n",
       "      <td>1</td>\n",
       "      <td>1</td>\n",
       "      <td>4</td>\n",
       "      <td>38</td>\n",
       "      <td>25.0</td>\n",
       "      <td>0.00</td>\n",
       "      <td>38</td>\n",
       "      <td>0</td>\n",
       "      <td>0</td>\n",
       "      <td>0</td>\n",
       "      <td>1</td>\n",
       "      <td>1</td>\n",
       "    </tr>\n",
       "    <tr>\n",
       "      <th>6</th>\n",
       "      <td>7</td>\n",
       "      <td>1</td>\n",
       "      <td>1</td>\n",
       "      <td>10</td>\n",
       "      <td>215</td>\n",
       "      <td>41</td>\n",
       "      <td>59.0</td>\n",
       "      <td>0.00</td>\n",
       "      <td>36</td>\n",
       "      <td>0</td>\n",
       "      <td>0</td>\n",
       "      <td>1</td>\n",
       "      <td>0</td>\n",
       "      <td>1</td>\n",
       "    </tr>\n",
       "  </tbody>\n",
       "</table>\n",
       "</div>"
      ],
      "text/plain": [
       "   Agency  Agency Type  Distribution Channel  Product Name  Duration  \\\n",
       "0       7            1                     1            10        61   \n",
       "1       7            1                     1            10         4   \n",
       "2       6            1                     1            16        26   \n",
       "3       7            1                     1             1        15   \n",
       "4       7            1                     1             1        15   \n",
       "5       7            1                     1             1         4   \n",
       "6       7            1                     1            10       215   \n",
       "\n",
       "   Destination  Net Sales  Commission  Age Claim Singapore Cancellation Plan  \\\n",
       "0           30       12.0        0.00   41     0         0                 1   \n",
       "1           22       17.0        0.00   35     0         0                 1   \n",
       "2           38       19.8       11.88   47     0         0                 0   \n",
       "3           12       27.0        0.00   48     0         0                 0   \n",
       "4           22       37.0        0.00   36     0         0                 0   \n",
       "5           38       25.0        0.00   38     0         0                 0   \n",
       "6           41       59.0        0.00   36     0         0                 1   \n",
       "\n",
       "  2 way Comprehensive Plan EPX  \n",
       "0                        0   1  \n",
       "1                        0   1  \n",
       "2                        0   0  \n",
       "3                        1   1  \n",
       "4                        1   1  \n",
       "5                        1   1  \n",
       "6                        0   1  "
      ]
     },
     "execution_count": 91,
     "metadata": {},
     "output_type": "execute_result"
    }
   ],
   "source": [
    "train.head(7)"
   ]
  },
  {
   "cell_type": "code",
   "execution_count": 92,
   "metadata": {},
   "outputs": [],
   "source": [
    "# Numeric Variables"
   ]
  },
  {
   "cell_type": "code",
   "execution_count": 93,
   "metadata": {},
   "outputs": [],
   "source": [
    "num_col=['Duration','Net Sales','Commission', 'Age']\n"
   ]
  },
  {
   "cell_type": "code",
   "execution_count": 94,
   "metadata": {},
   "outputs": [],
   "source": [
    "# Lets look at the skewness for each of these numeric variables"
   ]
  },
  {
   "cell_type": "code",
   "execution_count": 95,
   "metadata": {},
   "outputs": [],
   "source": [
    "skew_feats = train[num_col].skew().sort_values(ascending=False)"
   ]
  },
  {
   "cell_type": "code",
   "execution_count": 96,
   "metadata": {},
   "outputs": [],
   "source": [
    "skewness = pd.DataFrame({'Skew': skew_feats})"
   ]
  },
  {
   "cell_type": "code",
   "execution_count": 97,
   "metadata": {},
   "outputs": [
    {
     "name": "stdout",
     "output_type": "stream",
     "text": [
      "                 Skew\n",
      "Duration    15.333702\n",
      "Commission   3.575522\n",
      "Net Sales    3.022685\n",
      "Age          1.211670\n"
     ]
    }
   ],
   "source": [
    "print(skewness)"
   ]
  },
  {
   "cell_type": "code",
   "execution_count": 98,
   "metadata": {},
   "outputs": [
    {
     "data": {
      "image/png": "[encoded data removed]",
      "text/plain": [
       "<Figure size 864x576 with 4 Axes>"
      ]
     },
     "metadata": {
      "needs_background": "light"
     },
     "output_type": "display_data"
    }
   ],
   "source": [
    "nrows = 2\n",
    "ncols = 2\n",
    "count = 0\n",
    "fig, ax = plt.subplots(nrows, ncols, figsize=(12,8), squeeze = False)\n",
    "for i in range(nrows):\n",
    "    for j in range(ncols):\n",
    "        sns.distplot(train[num_col[count]], ax=ax[i][j], hist=False)\n",
    "        plt.tight_layout()\n",
    "        ax[i][j].set_title(num_col[count], fontsize=15)\n",
    "        count +=1\n",
    "    "
   ]
  },
  {
   "cell_type": "markdown",
   "metadata": {},
   "source": [
    "Columns Duration, Net Sales and Commission are completely right skewed."
   ]
  },
  {
   "cell_type": "markdown",
   "metadata": {},
   "source": [
    "We will look at log transformation for all the numeric variables"
   ]
  },
  {
   "cell_type": "code",
   "execution_count": 99,
   "metadata": {},
   "outputs": [],
   "source": [
    "# Log Transformation of Numeric Variables"
   ]
  },
  {
   "cell_type": "code",
   "execution_count": 100,
   "metadata": {},
   "outputs": [
    {
     "data": {
      "text/plain": [
       "<matplotlib.axes._subplots.AxesSubplot at 0x1ef8192d898>"
      ]
     },
     "execution_count": 100,
     "metadata": {},
     "output_type": "execute_result"
    },
    {
     "data": {
      "image/png": "[encoded data removed]",
      "text/plain": [
       "<Figure size 720x360 with 1 Axes>"
      ]
     },
     "metadata": {
      "needs_background": "light"
     },
     "output_type": "display_data"
    }
   ],
   "source": [
    "train['Duration'] = np.log(train['Duration']+1)\n",
    "plt.figure(figsize=(10,5))\n",
    "plt.title('Distribution of log transformed Duration')\n",
    "sns.distplot(train['Duration'], hist=False)"
   ]
  },
  {
   "cell_type": "code",
   "execution_count": 101,
   "metadata": {},
   "outputs": [
    {
     "data": {
      "text/plain": [
       "<matplotlib.axes._subplots.AxesSubplot at 0x1ef81bca780>"
      ]
     },
     "execution_count": 101,
     "metadata": {},
     "output_type": "execute_result"
    },
    {
     "data": {
      "image/png": "[encoded data removed]",
      "text/plain": [
       "<Figure size 720x360 with 1 Axes>"
      ]
     },
     "metadata": {
      "needs_background": "light"
     },
     "output_type": "display_data"
    }
   ],
   "source": [
    "train['Commission'] = np.log(train['Commission']+1)\n",
    "plt.figure(figsize=(10,5))\n",
    "plt.title('Distribution of log transformed Commission')\n",
    "sns.distplot(train['Commission'], hist=False)"
   ]
  },
  {
   "cell_type": "code",
   "execution_count": 102,
   "metadata": {},
   "outputs": [
    {
     "data": {
      "text/plain": [
       "<matplotlib.axes._subplots.AxesSubplot at 0x1ef8124fd30>"
      ]
     },
     "execution_count": 102,
     "metadata": {},
     "output_type": "execute_result"
    },
    {
     "data": {
      "image/png": "[encoded data removed]",
      "text/plain": [
       "<Figure size 720x360 with 1 Axes>"
      ]
     },
     "metadata": {
      "needs_background": "light"
     },
     "output_type": "display_data"
    }
   ],
   "source": [
    "train['Net Sales'] = np.log(train['Net Sales']+1)\n",
    "plt.figure(figsize=(10,5))\n",
    "plt.title('Distribution of log transformed Net Sales')\n",
    "sns.distplot(train['Net Sales'], hist=False)"
   ]
  },
  {
   "cell_type": "markdown",
   "metadata": {},
   "source": [
    "The transformed variables are still not perfectly normal. For now, we will go ahead with the log transformation"
   ]
  },
  {
   "cell_type": "markdown",
   "metadata": {},
   "source": [
    "# Predictions "
   ]
  },
  {
   "cell_type": "code",
   "execution_count": 103,
   "metadata": {},
   "outputs": [
    {
     "data": {
      "text/html": [
       "<div>\n",
       "<style scoped>\n",
       "    .dataframe tbody tr th:only-of-type {\n",
       "        vertical-align: middle;\n",
       "    }\n",
       "\n",
       "    .dataframe tbody tr th {\n",
       "        vertical-align: top;\n",
       "    }\n",
       "\n",
       "    .dataframe thead th {\n",
       "        text-align: right;\n",
       "    }\n",
       "</style>\n",
       "<table border=\"1\" class=\"dataframe\">\n",
       "  <thead>\n",
       "    <tr style=\"text-align: right;\">\n",
       "      <th></th>\n",
       "      <th>Agency</th>\n",
       "      <th>Agency Type</th>\n",
       "      <th>Distribution Channel</th>\n",
       "      <th>Product Name</th>\n",
       "      <th>Duration</th>\n",
       "      <th>Destination</th>\n",
       "      <th>Net Sales</th>\n",
       "      <th>Commission</th>\n",
       "      <th>Age</th>\n",
       "      <th>Claim</th>\n",
       "      <th>Singapore</th>\n",
       "      <th>Cancellation Plan</th>\n",
       "      <th>2 way Comprehensive Plan</th>\n",
       "      <th>EPX</th>\n",
       "    </tr>\n",
       "  </thead>\n",
       "  <tbody>\n",
       "    <tr>\n",
       "      <th>0</th>\n",
       "      <td>7</td>\n",
       "      <td>1</td>\n",
       "      <td>1</td>\n",
       "      <td>10</td>\n",
       "      <td>4.127134</td>\n",
       "      <td>30</td>\n",
       "      <td>2.564949</td>\n",
       "      <td>0.000000</td>\n",
       "      <td>41</td>\n",
       "      <td>0</td>\n",
       "      <td>0</td>\n",
       "      <td>1</td>\n",
       "      <td>0</td>\n",
       "      <td>1</td>\n",
       "    </tr>\n",
       "    <tr>\n",
       "      <th>1</th>\n",
       "      <td>7</td>\n",
       "      <td>1</td>\n",
       "      <td>1</td>\n",
       "      <td>10</td>\n",
       "      <td>1.609438</td>\n",
       "      <td>22</td>\n",
       "      <td>2.890372</td>\n",
       "      <td>0.000000</td>\n",
       "      <td>35</td>\n",
       "      <td>0</td>\n",
       "      <td>0</td>\n",
       "      <td>1</td>\n",
       "      <td>0</td>\n",
       "      <td>1</td>\n",
       "    </tr>\n",
       "    <tr>\n",
       "      <th>2</th>\n",
       "      <td>6</td>\n",
       "      <td>1</td>\n",
       "      <td>1</td>\n",
       "      <td>16</td>\n",
       "      <td>3.295837</td>\n",
       "      <td>38</td>\n",
       "      <td>3.034953</td>\n",
       "      <td>2.555676</td>\n",
       "      <td>47</td>\n",
       "      <td>0</td>\n",
       "      <td>0</td>\n",
       "      <td>0</td>\n",
       "      <td>0</td>\n",
       "      <td>0</td>\n",
       "    </tr>\n",
       "    <tr>\n",
       "      <th>3</th>\n",
       "      <td>7</td>\n",
       "      <td>1</td>\n",
       "      <td>1</td>\n",
       "      <td>1</td>\n",
       "      <td>2.772589</td>\n",
       "      <td>12</td>\n",
       "      <td>3.332205</td>\n",
       "      <td>0.000000</td>\n",
       "      <td>48</td>\n",
       "      <td>0</td>\n",
       "      <td>0</td>\n",
       "      <td>0</td>\n",
       "      <td>1</td>\n",
       "      <td>1</td>\n",
       "    </tr>\n",
       "    <tr>\n",
       "      <th>4</th>\n",
       "      <td>7</td>\n",
       "      <td>1</td>\n",
       "      <td>1</td>\n",
       "      <td>1</td>\n",
       "      <td>2.772589</td>\n",
       "      <td>22</td>\n",
       "      <td>3.637586</td>\n",
       "      <td>0.000000</td>\n",
       "      <td>36</td>\n",
       "      <td>0</td>\n",
       "      <td>0</td>\n",
       "      <td>0</td>\n",
       "      <td>1</td>\n",
       "      <td>1</td>\n",
       "    </tr>\n",
       "  </tbody>\n",
       "</table>\n",
       "</div>"
      ],
      "text/plain": [
       "   Agency  Agency Type  Distribution Channel  Product Name  Duration  \\\n",
       "0       7            1                     1            10  4.127134   \n",
       "1       7            1                     1            10  1.609438   \n",
       "2       6            1                     1            16  3.295837   \n",
       "3       7            1                     1             1  2.772589   \n",
       "4       7            1                     1             1  2.772589   \n",
       "\n",
       "   Destination  Net Sales  Commission  Age Claim Singapore Cancellation Plan  \\\n",
       "0           30   2.564949    0.000000   41     0         0                 1   \n",
       "1           22   2.890372    0.000000   35     0         0                 1   \n",
       "2           38   3.034953    2.555676   47     0         0                 0   \n",
       "3           12   3.332205    0.000000   48     0         0                 0   \n",
       "4           22   3.637586    0.000000   36     0         0                 0   \n",
       "\n",
       "  2 way Comprehensive Plan EPX  \n",
       "0                        0   1  \n",
       "1                        0   1  \n",
       "2                        0   0  \n",
       "3                        1   1  \n",
       "4                        1   1  "
      ]
     },
     "execution_count": 103,
     "metadata": {},
     "output_type": "execute_result"
    }
   ],
   "source": [
    "train.head()"
   ]
  },
  {
   "cell_type": "markdown",
   "metadata": {},
   "source": [
    "Split the Data into Test and Train"
   ]
  },
  {
   "cell_type": "code",
   "execution_count": 104,
   "metadata": {},
   "outputs": [],
   "source": [
    "train['Claim'] = train['Claim'].astype('category')"
   ]
  },
  {
   "cell_type": "code",
   "execution_count": 105,
   "metadata": {},
   "outputs": [
    {
     "name": "stdout",
     "output_type": "stream",
     "text": [
      "   Agency  Agency Type  Distribution Channel  Product Name  Duration  \\\n",
      "0       7            1                     1            10  4.127134   \n",
      "1       7            1                     1            10  1.609438   \n",
      "\n",
      "   Destination  Net Sales  Commission  Age Singapore Cancellation Plan  \\\n",
      "0           30   2.564949         0.0   41         0                 1   \n",
      "1           22   2.890372         0.0   35         0                 1   \n",
      "\n",
      "  2 way Comprehensive Plan EPX  \n",
      "0                        0   1  \n",
      "1                        0   1  \n",
      "0    0\n",
      "1    0\n",
      "Name: Claim, dtype: category\n",
      "Categories (2, int64): [0, 1]\n"
     ]
    }
   ],
   "source": [
    "X = train[['Agency','Agency Type','Distribution Channel','Product Name','Duration','Destination','Net Sales','Commission','Age','Singapore','Cancellation Plan','2 way Comprehensive Plan','EPX']]\n",
    "y = train['Claim']\n",
    "print(X.head(2))\n",
    "print(y.head(2))\n",
    "X_train, X_test, y_train, y_test = train_test_split(X, y, random_state=0, test_size=0.3)"
   ]
  },
  {
   "cell_type": "code",
   "execution_count": 106,
   "metadata": {},
   "outputs": [
    {
     "data": {
      "text/plain": [
       "(51079, 13)"
      ]
     },
     "execution_count": 106,
     "metadata": {},
     "output_type": "execute_result"
    }
   ],
   "source": [
    "X.shape"
   ]
  },
  {
   "cell_type": "code",
   "execution_count": 107,
   "metadata": {},
   "outputs": [
    {
     "data": {
      "text/plain": [
       "(51079,)"
      ]
     },
     "execution_count": 107,
     "metadata": {},
     "output_type": "execute_result"
    }
   ],
   "source": [
    "y.shape"
   ]
  },
  {
   "cell_type": "markdown",
   "metadata": {},
   "source": [
    "# Model 1: Base Random Forest Model"
   ]
  },
  {
   "cell_type": "code",
   "execution_count": 108,
   "metadata": {},
   "outputs": [],
   "source": [
    "## Base Random Forest Model\n",
    "rf_basemodel = RandomForestClassifier(random_state=0)\n",
    "rf_basemodel.fit(X_train, y_train)\n",
    "score_bm = rf_basemodel.score(X_test, y_test)\n",
    "pred_bm = rf_basemodel.predict(X_test)"
   ]
  },
  {
   "cell_type": "code",
   "execution_count": 109,
   "metadata": {},
   "outputs": [
    {
     "name": "stdout",
     "output_type": "stream",
     "text": [
      "The accuracy score is 0.9402244844688071\n"
     ]
    }
   ],
   "source": [
    "print('The accuracy score is', accuracy_score(y_test, pred_bm))"
   ]
  },
  {
   "cell_type": "code",
   "execution_count": 110,
   "metadata": {},
   "outputs": [
    {
     "name": "stdout",
     "output_type": "stream",
     "text": [
      "The ROC value is 0.96978925808564\n"
     ]
    }
   ],
   "source": [
    "# Probabilities for each class\n",
    "probs_bm = rf_basemodel.predict_proba(X_test)[:, 1]\n",
    "\n",
    "# Calculate roc auc\n",
    "roc_value_bm = roc_auc_score(y_test, probs_bm)\n",
    "print('The ROC value is', roc_value_bm)"
   ]
  },
  {
   "cell_type": "code",
   "execution_count": 111,
   "metadata": {},
   "outputs": [
    {
     "name": "stdout",
     "output_type": "stream",
     "text": [
      "Features in descending order of Importance\n",
      "                          importance\n",
      "Net Sales                   0.242379\n",
      "Duration                    0.218516\n",
      "Age                         0.147848\n",
      "Commission                  0.142496\n",
      "Agency                      0.095665\n",
      "Destination                 0.076764\n",
      "Product Name                0.027970\n",
      "Agency Type                 0.026369\n",
      "EPX                         0.009702\n",
      "Cancellation Plan           0.005934\n",
      "2 way Comprehensive Plan    0.005273\n",
      "Distribution Channel        0.001084\n",
      "Singapore                   0.000000\n"
     ]
    }
   ],
   "source": [
    "# Extract feature importances\n",
    "feature_imp = pd.DataFrame(rf_basemodel.feature_importances_, index= X_train.columns, columns=['importance']).sort_values('importance', ascending=False)\n",
    "print('Features in descending order of Importance')\n",
    "print(feature_imp)"
   ]
  },
  {
   "cell_type": "code",
   "execution_count": 112,
   "metadata": {},
   "outputs": [
    {
     "name": "stdout",
     "output_type": "stream",
     "text": [
      "Confusion Matrix for Base Random Forest Model\n",
      "[[12414   401]\n",
      " [  515  1994]]\n",
      "\n",
      "\n",
      "Classification Report for Base Random Forest Model\n",
      "              precision    recall  f1-score   support\n",
      "\n",
      "           0       0.96      0.97      0.96     12815\n",
      "           1       0.83      0.79      0.81      2509\n",
      "\n",
      "    accuracy                           0.94     15324\n",
      "   macro avg       0.90      0.88      0.89     15324\n",
      "weighted avg       0.94      0.94      0.94     15324\n",
      "\n"
     ]
    }
   ],
   "source": [
    "#Confusion Matrix and Classification Report\n",
    "print('Confusion Matrix for Base Random Forest Model')\n",
    "print(confusion_matrix(y_test, pred_bm))\n",
    "print('')\n",
    "print('')\n",
    "print('Classification Report for Base Random Forest Model')\n",
    "print(classification_report(y_test,pred_bm))"
   ]
  },
  {
   "cell_type": "markdown",
   "metadata": {},
   "source": [
    "Observations:\n",
    "    1. The base model has given a very high accuracy, precision value and ROC\n",
    "    2. Features of Sales and Commissions rank highest in feature importance matrix\n",
    "    3. However,from a business perspective, these features do not play any role in claims.\n",
    "    4. Whether a person makes a travel insurance claim is contingent on his destination, duration, age and other factors.\n",
    "    5. Sales and commissionsare metrics important for the insurer from a P/L perspective.\n",
    "    5. We will thus look at models without considering the variables of Sales and Commissions"
   ]
  },
  {
   "cell_type": "markdown",
   "metadata": {},
   "source": [
    "# Model 2: Base Random Forest Model without Sales and Commissions"
   ]
  },
  {
   "cell_type": "code",
   "execution_count": 113,
   "metadata": {},
   "outputs": [],
   "source": [
    "X = train[['Agency','Agency Type','Distribution Channel','Product Name','Duration','Destination','Age','Singapore','Cancellation Plan','2 way Comprehensive Plan',\"EPX\"]]\n",
    "y = train['Claim']\n",
    "X_train, X_test, y_train, y_test = train_test_split(X, y, random_state=0, test_size=0.3)"
   ]
  },
  {
   "cell_type": "code",
   "execution_count": 114,
   "metadata": {},
   "outputs": [
    {
     "name": "stdout",
     "output_type": "stream",
     "text": [
      "The accuracy score is 0.8772513703993735\n"
     ]
    }
   ],
   "source": [
    "rf2 = RandomForestClassifier(random_state=0)\n",
    "rf2.fit(X_train, y_train)\n",
    "rf2y_pred = rf2.predict(X_test)\n",
    "print('The accuracy score is', accuracy_score(y_test, rf2y_pred))"
   ]
  },
  {
   "cell_type": "code",
   "execution_count": 115,
   "metadata": {},
   "outputs": [
    {
     "name": "stdout",
     "output_type": "stream",
     "text": [
      "The ROC-AUC value is 0.900464406948874\n"
     ]
    }
   ],
   "source": [
    "# Lets calculate the Area Under the Curve(ROC-AUC)\n",
    "probs_rf2 = rf2.predict_proba(X_test)[:,1]\n",
    "roc_value_rf2 = roc_auc_score(y_test, probs_rf2)\n",
    "print('The ROC-AUC value is', roc_value_rf2)"
   ]
  },
  {
   "cell_type": "code",
   "execution_count": 116,
   "metadata": {},
   "outputs": [
    {
     "name": "stdout",
     "output_type": "stream",
     "text": [
      "Features in descending order of importance\n",
      "                          importance\n",
      "Duration                    0.398796\n",
      "Age                         0.246060\n",
      "Agency                      0.128737\n",
      "Destination                 0.117292\n",
      "Product Name                0.040760\n",
      "Agency Type                 0.029912\n",
      "EPX                         0.022917\n",
      "Cancellation Plan           0.008883\n",
      "2 way Comprehensive Plan    0.005173\n",
      "Distribution Channel        0.001469\n",
      "Singapore                   0.000000\n"
     ]
    }
   ],
   "source": [
    "# Extract Feature Importance\n",
    "feature_imp = pd.DataFrame(rf2.feature_importances_, index=X_train.columns, columns=['importance']).sort_values('importance', ascending=False)\n",
    "print('Features in descending order of importance')\n",
    "print(feature_imp)"
   ]
  },
  {
   "cell_type": "code",
   "execution_count": 117,
   "metadata": {},
   "outputs": [
    {
     "name": "stdout",
     "output_type": "stream",
     "text": [
      "Confusion Matrix for Base Random Forest Model without Sales and Commission\n",
      "[[11935   880]\n",
      " [ 1001  1508]]\n",
      "Classification Report for Base Random Forest Model without Sales and Commission\n",
      "              precision    recall  f1-score   support\n",
      "\n",
      "           0       0.92      0.93      0.93     12815\n",
      "           1       0.63      0.60      0.62      2509\n",
      "\n",
      "    accuracy                           0.88     15324\n",
      "   macro avg       0.78      0.77      0.77     15324\n",
      "weighted avg       0.87      0.88      0.88     15324\n",
      "\n"
     ]
    }
   ],
   "source": [
    "# Confusion Matrix and Classification Report\n",
    "print('Confusion Matrix for Base Random Forest Model without Sales and Commission')\n",
    "print(confusion_matrix(y_test, rf2y_pred))\n",
    "print('Classification Report for Base Random Forest Model without Sales and Commission')\n",
    "print(classification_report(y_test, rf2y_pred))"
   ]
  },
  {
   "cell_type": "markdown",
   "metadata": {},
   "source": [
    "Lets create the RF model using only the top 5 features based on the Importance wrt Model 2"
   ]
  },
  {
   "cell_type": "markdown",
   "metadata": {},
   "source": [
    "# Model 3: Model 2 with top five important features"
   ]
  },
  {
   "cell_type": "code",
   "execution_count": 118,
   "metadata": {},
   "outputs": [],
   "source": [
    "X = train[['Agency','Product Name','Duration','Destination','Age']]\n",
    "y = train['Claim']\n",
    "X_train, X_test, y_train, y_test = train_test_split(X, y, random_state=0, test_size=0.3)"
   ]
  },
  {
   "cell_type": "code",
   "execution_count": 119,
   "metadata": {},
   "outputs": [
    {
     "name": "stdout",
     "output_type": "stream",
     "text": [
      "The accuracy score is 0.8771208561733229\n"
     ]
    }
   ],
   "source": [
    "rf3 = RandomForestClassifier(random_state=0)\n",
    "rf3.fit(X_train, y_train)\n",
    "rf3y_pred = rf3.predict(X_test)\n",
    "print('The accuracy score is', accuracy_score(y_test, rf3y_pred))"
   ]
  },
  {
   "cell_type": "code",
   "execution_count": 120,
   "metadata": {},
   "outputs": [
    {
     "name": "stdout",
     "output_type": "stream",
     "text": [
      "The ROC-AUC value is 0.8998787198702695\n"
     ]
    }
   ],
   "source": [
    "# Lets calculate the Area Under the Curve(ROC-AUC)\n",
    "probs_rf3 = rf3.predict_proba(X_test)[:,1]\n",
    "roc_value_rf3 = roc_auc_score(y_test, probs_rf3)\n",
    "print('The ROC-AUC value is', roc_value_rf3)"
   ]
  },
  {
   "cell_type": "code",
   "execution_count": 121,
   "metadata": {},
   "outputs": [
    {
     "name": "stdout",
     "output_type": "stream",
     "text": [
      "Features in descending order of importance\n",
      "              importance\n",
      "Duration        0.407131\n",
      "Age             0.255834\n",
      "Agency          0.165163\n",
      "Destination     0.115687\n",
      "Product Name    0.056184\n"
     ]
    }
   ],
   "source": [
    "# Extract Feature Importance\n",
    "feature_imp = pd.DataFrame(rf3.feature_importances_, index=X_train.columns, columns=['importance']).sort_values('importance', ascending=False)\n",
    "print('Features in descending order of importance')\n",
    "print(feature_imp)"
   ]
  },
  {
   "cell_type": "code",
   "execution_count": 122,
   "metadata": {},
   "outputs": [
    {
     "name": "stdout",
     "output_type": "stream",
     "text": [
      "Confusion Matrix for Base Random Forest Model without Sales and Commission\n",
      "[[11930   885]\n",
      " [  998  1511]]\n",
      "Classification Report for Base Random Forest Model without Sales and Commission\n",
      "              precision    recall  f1-score   support\n",
      "\n",
      "           0       0.92      0.93      0.93     12815\n",
      "           1       0.63      0.60      0.62      2509\n",
      "\n",
      "    accuracy                           0.88     15324\n",
      "   macro avg       0.78      0.77      0.77     15324\n",
      "weighted avg       0.87      0.88      0.88     15324\n",
      "\n"
     ]
    }
   ],
   "source": [
    "print('Confusion Matrix for Base Random Forest Model without Sales and Commission')\n",
    "print(confusion_matrix(y_test, rf3y_pred))\n",
    "print('Classification Report for Base Random Forest Model without Sales and Commission')\n",
    "print(classification_report(y_test, rf3y_pred))"
   ]
  },
  {
   "cell_type": "markdown",
   "metadata": {},
   "source": [
    "There is not much change in the prescion value for model 2 and model 3. We will now try HyperParameter Tuning"
   ]
  },
  {
   "cell_type": "markdown",
   "metadata": {},
   "source": [
    "# Model 4 : Random Forest with Hyperparameter Tuning (Without Sales and Commissions)"
   ]
  },
  {
   "cell_type": "code",
   "execution_count": 123,
   "metadata": {},
   "outputs": [],
   "source": [
    "# Random Forest Model with Randomized Search\n",
    "from sklearn.model_selection import RandomizedSearchCV\n",
    "param_dist = {'n_estimators': [50,100,150,200,250],\n",
    "               \"min_samples_split\": [3,4,5,6,7,8,9,10],\n",
    "               \"min_samples_leaf\": [3,4,5,6,7,8,9,10],\n",
    "               \"criterion\": [\"gini\", \"entropy\"]}"
   ]
  },
  {
   "cell_type": "code",
   "execution_count": 124,
   "metadata": {},
   "outputs": [],
   "source": [
    "X = train[['Agency','Agency Type','Distribution Channel','Product Name','Duration','Destination','Age','Singapore','Cancellation Plan','2 way Comprehensive Plan',\"EPX\"]]\n",
    "y = train['Claim']\n",
    "X_train, X_test, y_train, y_test = train_test_split(X, y, random_state=0, test_size=0.3)"
   ]
  },
  {
   "cell_type": "code",
   "execution_count": 125,
   "metadata": {},
   "outputs": [],
   "source": [
    "rf4 = RandomForestClassifier(random_state = 0)\n",
    "rf4_cv = RandomizedSearchCV(rf4, param_distributions = param_dist, n_iter=40, random_state=0, cv=5)"
   ]
  },
  {
   "cell_type": "code",
   "execution_count": 132,
   "metadata": {},
   "outputs": [
    {
     "name": "stdout",
     "output_type": "stream",
     "text": [
      "Best Score:  0.8761292126975249\n",
      "Best Params:  {'n_estimators': 200, 'min_samples_split': 5, 'min_samples_leaf': 3, 'criterion': 'entropy'}\n"
     ]
    }
   ],
   "source": [
    "rf4_cv.fit(X_train, y_train)\n",
    "print('Best Score: ', rf4_cv.best_score_)\n",
    "print('Best Params: ', rf4_cv.best_params_)"
   ]
  },
  {
   "cell_type": "code",
   "execution_count": 133,
   "metadata": {},
   "outputs": [
    {
     "name": "stdout",
     "output_type": "stream",
     "text": [
      "The accuracy score is 0.880187940485513\n"
     ]
    }
   ],
   "source": [
    "score_rs = rf4_cv.score(X_test, y_test)\n",
    "print('The accuracy score is', score_rs)"
   ]
  },
  {
   "cell_type": "markdown",
   "metadata": {},
   "source": [
    "Run the RF model with the best parameters"
   ]
  },
  {
   "cell_type": "code",
   "execution_count": 126,
   "metadata": {},
   "outputs": [
    {
     "data": {
      "text/plain": [
       "RandomForestClassifier(bootstrap=True, ccp_alpha=0.0, class_weight=None,\n",
       "                       criterion='entropy', max_depth=None, max_features='auto',\n",
       "                       max_leaf_nodes=None, max_samples=None,\n",
       "                       min_impurity_decrease=0.0, min_impurity_split=None,\n",
       "                       min_samples_leaf=3, min_samples_split=5,\n",
       "                       min_weight_fraction_leaf=0.0, n_estimators=200,\n",
       "                       n_jobs=None, oob_score=False, random_state=0, verbose=0,\n",
       "                       warm_start=False)"
      ]
     },
     "execution_count": 126,
     "metadata": {},
     "output_type": "execute_result"
    }
   ],
   "source": [
    "rf_clf4 = RandomForestClassifier(n_estimators=200,random_state=0, min_samples_leaf=3 ,min_samples_split=5, criterion='entropy')\n",
    "\n",
    "rf_clf4.fit(X_train, y_train)"
   ]
  },
  {
   "cell_type": "code",
   "execution_count": 127,
   "metadata": {},
   "outputs": [
    {
     "name": "stdout",
     "output_type": "stream",
     "text": [
      "Training score: 0.92 \n"
     ]
    }
   ],
   "source": [
    "#Scoring the model on train data\n",
    "score_rf4_train = rf_clf4.score(X_train, y_train)\n",
    "print(\"Training score: %.2f \" % score_rf4_train)"
   ]
  },
  {
   "cell_type": "code",
   "execution_count": 128,
   "metadata": {},
   "outputs": [
    {
     "name": "stdout",
     "output_type": "stream",
     "text": [
      "Testing score: 0.88 \n"
     ]
    }
   ],
   "source": [
    "#Scoring the model on test_data\n",
    "score_rf4_test = rf_clf4.score(X_test, y_test)\n",
    "print(\"Testing score: %.2f \" % score_rf4_test)"
   ]
  },
  {
   "cell_type": "code",
   "execution_count": 129,
   "metadata": {},
   "outputs": [
    {
     "name": "stdout",
     "output_type": "stream",
     "text": [
      "The accuracy score is 0.880187940485513\n"
     ]
    }
   ],
   "source": [
    "# Actual class predictions\n",
    "rf4_predictions = rf_clf4.predict(X_test)\n",
    "print('The accuracy score is', accuracy_score(y_test, rf4_predictions))"
   ]
  },
  {
   "cell_type": "code",
   "execution_count": 130,
   "metadata": {},
   "outputs": [
    {
     "name": "stdout",
     "output_type": "stream",
     "text": [
      "The ROC-AUC value is 0.9162165948974639\n"
     ]
    }
   ],
   "source": [
    "# Probabilities for each class\n",
    "rf4_probs = rf_clf4.predict_proba(X_test)[:, 1]\n",
    "\n",
    "# Calculate roc auc\n",
    "roc_value = roc_auc_score(y_test, rf4_probs)\n",
    "print('The ROC-AUC value is',roc_value)"
   ]
  },
  {
   "cell_type": "code",
   "execution_count": 131,
   "metadata": {},
   "outputs": [
    {
     "name": "stdout",
     "output_type": "stream",
     "text": [
      "The most important features are\n",
      "                          importance\n",
      "Duration                    0.304336\n",
      "Age                         0.181418\n",
      "Agency                      0.168651\n",
      "Destination                 0.167167\n",
      "Product Name                0.053724\n",
      "Agency Type                 0.047915\n",
      "EPX                         0.034076\n",
      "Cancellation Plan           0.029648\n",
      "2 way Comprehensive Plan    0.010635\n",
      "Distribution Channel        0.002430\n",
      "Singapore                   0.000000\n"
     ]
    }
   ],
   "source": [
    "# Extract feature importances\n",
    "feature_imp = pd.DataFrame(rf_clf4.feature_importances_, index= X_train.columns, columns=['importance']).sort_values('importance', ascending=False)\n",
    "print('The most important features are')\n",
    "print(feature_imp)"
   ]
  },
  {
   "cell_type": "code",
   "execution_count": 132,
   "metadata": {},
   "outputs": [
    {
     "name": "stdout",
     "output_type": "stream",
     "text": [
      "The Confusion Matrix is\n",
      "[[12170   645]\n",
      " [ 1191  1318]]\n",
      "\n",
      "\n",
      "The Classsification Report is\n",
      "              precision    recall  f1-score   support\n",
      "\n",
      "           0       0.91      0.95      0.93     12815\n",
      "           1       0.67      0.53      0.59      2509\n",
      "\n",
      "    accuracy                           0.88     15324\n",
      "   macro avg       0.79      0.74      0.76     15324\n",
      "weighted avg       0.87      0.88      0.87     15324\n",
      "\n"
     ]
    }
   ],
   "source": [
    "#Confusion Matrix and Classification Report\n",
    "print('The Confusion Matrix is')\n",
    "print(confusion_matrix(y_test, rf4_predictions))\n",
    "print('')\n",
    "print('')\n",
    "print('The Classsification Report is')\n",
    "print(classification_report(y_test,rf4_predictions))"
   ]
  },
  {
   "cell_type": "markdown",
   "metadata": {},
   "source": [
    "Precision has increased from 0.64 to 0.67 after doing hyperparameter tuning the Random Forest Model."
   ]
  },
  {
   "cell_type": "markdown",
   "metadata": {},
   "source": [
    "# Model 6: Gradient Boosting Base Model"
   ]
  },
  {
   "cell_type": "code",
   "execution_count": 133,
   "metadata": {},
   "outputs": [
    {
     "data": {
      "text/plain": [
       "GradientBoostingClassifier(ccp_alpha=0.0, criterion='friedman_mse', init=None,\n",
       "                           learning_rate=0.1, loss='deviance', max_depth=3,\n",
       "                           max_features=None, max_leaf_nodes=None,\n",
       "                           min_impurity_decrease=0.0, min_impurity_split=None,\n",
       "                           min_samples_leaf=1, min_samples_split=2,\n",
       "                           min_weight_fraction_leaf=0.0, n_estimators=100,\n",
       "                           n_iter_no_change=None, presort='deprecated',\n",
       "                           random_state=0, subsample=1.0, tol=0.0001,\n",
       "                           validation_fraction=0.1, verbose=0,\n",
       "                           warm_start=False)"
      ]
     },
     "execution_count": 133,
     "metadata": {},
     "output_type": "execute_result"
    }
   ],
   "source": [
    "gb_clf = GradientBoostingClassifier(random_state=0,learning_rate=0.1)\n",
    "gb_clf.fit(X_train, y_train)"
   ]
  },
  {
   "cell_type": "code",
   "execution_count": 134,
   "metadata": {},
   "outputs": [
    {
     "name": "stdout",
     "output_type": "stream",
     "text": [
      "The accuracy of the Gradient Boosting Classifier is 0.8542156095014356\n"
     ]
    }
   ],
   "source": [
    "gb_pred = gb_clf.predict(X_test)\n",
    "gb_score = accuracy_score(y_test, gb_pred)\n",
    "print('The accuracy of the Gradient Boosting Classifier is', gb_score)"
   ]
  },
  {
   "cell_type": "code",
   "execution_count": 135,
   "metadata": {},
   "outputs": [
    {
     "name": "stdout",
     "output_type": "stream",
     "text": [
      "The ROC-AUC value is 0.8641038962816188\n"
     ]
    }
   ],
   "source": [
    "# Probabilities for each class\n",
    "gb_probs = gb_clf.predict_proba(X_test)[:, 1]\n",
    "\n",
    "# Calculate roc auc\n",
    "\n",
    "roc_value_gb = roc_auc_score(y_test, gb_probs)\n",
    "print('The ROC-AUC value is',roc_value_gb)"
   ]
  },
  {
   "cell_type": "code",
   "execution_count": 136,
   "metadata": {},
   "outputs": [
    {
     "name": "stdout",
     "output_type": "stream",
     "text": [
      "The Confusion matrix is\n",
      "[[12152   663]\n",
      " [ 1571   938]]\n",
      "\n",
      "\n",
      "The Classification Report is\n",
      "              precision    recall  f1-score   support\n",
      "\n",
      "           0       0.89      0.95      0.92     12815\n",
      "           1       0.59      0.37      0.46      2509\n",
      "\n",
      "    accuracy                           0.85     15324\n",
      "   macro avg       0.74      0.66      0.69     15324\n",
      "weighted avg       0.84      0.85      0.84     15324\n",
      "\n"
     ]
    }
   ],
   "source": [
    "print('The Confusion matrix is') \n",
    "print(confusion_matrix(y_test, gb_pred))\n",
    "print('')\n",
    "print('')\n",
    "print('The Classification Report is')\n",
    "print(classification_report(y_test, gb_pred))"
   ]
  },
  {
   "cell_type": "markdown",
   "metadata": {},
   "source": [
    "As we can see, the precision value os only 0.59 with base Gradient Boosting Model as compared to 0.63 with the base Random Forest Model"
   ]
  },
  {
   "cell_type": "markdown",
   "metadata": {},
   "source": [
    "# Model 7 : Gradient Boosting Model with HyperParameter Tuning"
   ]
  },
  {
   "cell_type": "code",
   "execution_count": 137,
   "metadata": {},
   "outputs": [],
   "source": [
    "param_dist = { 'learning_rate':[0.01,0.05,0.1],\n",
    "               'n_estimators': [100,200,250,300,350,400,450,500,600,700],\n",
    "               'max_depth':[3,4,5,6,7]\n",
    "             }"
   ]
  },
  {
   "cell_type": "code",
   "execution_count": 153,
   "metadata": {},
   "outputs": [
    {
     "data": {
      "text/plain": [
       "RandomizedSearchCV(cv=5, error_score=nan,\n",
       "                   estimator=GradientBoostingClassifier(ccp_alpha=0.0,\n",
       "                                                        criterion='friedman_mse',\n",
       "                                                        init=None,\n",
       "                                                        learning_rate=0.1,\n",
       "                                                        loss='deviance',\n",
       "                                                        max_depth=3,\n",
       "                                                        max_features=None,\n",
       "                                                        max_leaf_nodes=None,\n",
       "                                                        min_impurity_decrease=0.0,\n",
       "                                                        min_impurity_split=None,\n",
       "                                                        min_samples_leaf=1,\n",
       "                                                        min_samples_split=2,\n",
       "                                                        min_weight_fraction_leaf=0.0,\n",
       "                                                        n_estimators=100,\n",
       "                                                        n_ite...\n",
       "                                                        random_state=0,\n",
       "                                                        subsample=1.0,\n",
       "                                                        tol=0.0001,\n",
       "                                                        validation_fraction=0.1,\n",
       "                                                        verbose=0,\n",
       "                                                        warm_start=False),\n",
       "                   iid='deprecated', n_iter=40, n_jobs=None,\n",
       "                   param_distributions={'learning_rate': [0.01, 0.05, 0.1],\n",
       "                                        'max_depth': [3, 4, 5, 6, 7],\n",
       "                                        'n_estimators': [100, 200, 250, 300,\n",
       "                                                         350, 400, 450, 500,\n",
       "                                                         600, 700]},\n",
       "                   pre_dispatch='2*n_jobs', random_state=0, refit=True,\n",
       "                   return_train_score=False, scoring=None, verbose=0)"
      ]
     },
     "execution_count": 153,
     "metadata": {},
     "output_type": "execute_result"
    }
   ],
   "source": [
    "gb = GradientBoostingClassifier(random_state = 0)\n",
    "gb_cv = RandomizedSearchCV(gb, param_distributions = param_dist, n_iter=40, random_state=0, cv=5)\n",
    "gb_cv.fit(X_train, y_train)"
   ]
  },
  {
   "cell_type": "code",
   "execution_count": 154,
   "metadata": {},
   "outputs": [
    {
     "name": "stdout",
     "output_type": "stream",
     "text": [
      "Best Score:  0.8735561459935672\n",
      "Best Params:  {'n_estimators': 500, 'max_depth': 7, 'learning_rate': 0.05}\n",
      "0.8775776559645001\n"
     ]
    }
   ],
   "source": [
    "print('Best Score: ', gb_cv.best_score_)\n",
    "print('Best Params: ', gb_cv.best_params_)\n",
    "score_gb = gb_cv.score(X_test, y_test)\n",
    "print(score_gb)"
   ]
  },
  {
   "cell_type": "markdown",
   "metadata": {},
   "source": [
    "Use the Gradient Boosting Classifier with the best parameters"
   ]
  },
  {
   "cell_type": "code",
   "execution_count": 138,
   "metadata": {},
   "outputs": [
    {
     "data": {
      "text/plain": [
       "GradientBoostingClassifier(ccp_alpha=0.0, criterion='friedman_mse', init=None,\n",
       "                           learning_rate=0.05, loss='deviance', max_depth=7,\n",
       "                           max_features=None, max_leaf_nodes=None,\n",
       "                           min_impurity_decrease=0.0, min_impurity_split=None,\n",
       "                           min_samples_leaf=1, min_samples_split=2,\n",
       "                           min_weight_fraction_leaf=0.0, n_estimators=500,\n",
       "                           n_iter_no_change=None, presort='deprecated',\n",
       "                           random_state=0, subsample=1.0, tol=0.0001,\n",
       "                           validation_fraction=0.1, verbose=0,\n",
       "                           warm_start=False)"
      ]
     },
     "execution_count": 138,
     "metadata": {},
     "output_type": "execute_result"
    }
   ],
   "source": [
    "gb1_clf = GradientBoostingClassifier(n_estimators=500, random_state=0, max_depth =7 ,learning_rate=0.05)\n",
    "gb1_clf.fit(X_train, y_train)"
   ]
  },
  {
   "cell_type": "code",
   "execution_count": 139,
   "metadata": {},
   "outputs": [
    {
     "name": "stdout",
     "output_type": "stream",
     "text": [
      "Training score: 0.92 \n"
     ]
    }
   ],
   "source": [
    "#Scoring the model on train data\n",
    "score_gb1_clf = gb1_clf.score(X_train, y_train)\n",
    "print(\"Training score: %.2f \" % score_gb1_clf)"
   ]
  },
  {
   "cell_type": "code",
   "execution_count": 140,
   "metadata": {},
   "outputs": [
    {
     "name": "stdout",
     "output_type": "stream",
     "text": [
      "Testing score: 0.85 \n"
     ]
    }
   ],
   "source": [
    "#Scoring the model on test_data\n",
    "score_gb1_test = gb_clf.score(X_test, y_test)\n",
    "print(\"Testing score: %.2f \" % score_gb1_test)"
   ]
  },
  {
   "cell_type": "code",
   "execution_count": 141,
   "metadata": {},
   "outputs": [
    {
     "name": "stdout",
     "output_type": "stream",
     "text": [
      "The accuracy score is 0.8775776559645001\n"
     ]
    }
   ],
   "source": [
    "# Actual class predictions\n",
    "gb1_predictions = gb1_clf.predict(X_test)\n",
    "print('The accuracy score is', accuracy_score(y_test, gb1_predictions))"
   ]
  },
  {
   "cell_type": "code",
   "execution_count": 142,
   "metadata": {},
   "outputs": [
    {
     "name": "stdout",
     "output_type": "stream",
     "text": [
      "The ROC-AUC value is 0.9153902758497034\n"
     ]
    }
   ],
   "source": [
    "# Probabilities for each class\n",
    "gb1_probs = gb1_clf.predict_proba(X_test)[:, 1]\n",
    "\n",
    "# Calculate roc auc\n",
    "gb1_roc_value = roc_auc_score(y_test, gb1_probs)\n",
    "print('The ROC-AUC value is',gb1_roc_value)"
   ]
  },
  {
   "cell_type": "code",
   "execution_count": 143,
   "metadata": {},
   "outputs": [
    {
     "name": "stdout",
     "output_type": "stream",
     "text": [
      "                          importance\n",
      "Agency                      0.390558\n",
      "Duration                    0.246922\n",
      "Age                         0.151042\n",
      "Destination                 0.104522\n",
      "Product Name                0.061279\n",
      "Cancellation Plan           0.017655\n",
      "2 way Comprehensive Plan    0.016299\n",
      "Agency Type                 0.007514\n",
      "EPX                         0.002285\n",
      "Distribution Channel        0.001924\n",
      "Singapore                   0.000000\n"
     ]
    }
   ],
   "source": [
    "# Extract feature importances\n",
    "feature_imp = pd.DataFrame(gb1_clf.feature_importances_, index= X_train.columns, columns=['importance']).sort_values('importance', ascending=False)\n",
    "print(feature_imp)"
   ]
  },
  {
   "cell_type": "code",
   "execution_count": 144,
   "metadata": {},
   "outputs": [
    {
     "name": "stdout",
     "output_type": "stream",
     "text": [
      "The confustion matrix\n",
      "[[12098   717]\n",
      " [ 1159  1350]]\n",
      "The classification report\n",
      "              precision    recall  f1-score   support\n",
      "\n",
      "           0       0.91      0.94      0.93     12815\n",
      "           1       0.65      0.54      0.59      2509\n",
      "\n",
      "    accuracy                           0.88     15324\n",
      "   macro avg       0.78      0.74      0.76     15324\n",
      "weighted avg       0.87      0.88      0.87     15324\n",
      "\n"
     ]
    }
   ],
   "source": [
    "#Confusion Matrix and Classification Report\n",
    "print('The confustion matrix')\n",
    "print(confusion_matrix(y_test, gb1_predictions))\n",
    "print('The classification report')\n",
    "print(classification_report(y_test,gb1_predictions))"
   ]
  },
  {
   "cell_type": "markdown",
   "metadata": {},
   "source": [
    "There is improvement in the precision score of about 0.5 units by tuning hyperparameter"
   ]
  },
  {
   "cell_type": "markdown",
   "metadata": {},
   "source": [
    "So far the highest precision score has been of the Random Forest  Model with hyperparamters tuned. "
   ]
  },
  {
   "cell_type": "markdown",
   "metadata": {},
   "source": [
    "We will try one last model. Stacking model combining the best params of Random Forest and Gradient Boosting"
   ]
  },
  {
   "cell_type": "markdown",
   "metadata": {},
   "source": [
    "# Model 8 : Stacking Classifier combining Random Forest and Gradient Boosting "
   ]
  },
  {
   "cell_type": "code",
   "execution_count": 145,
   "metadata": {},
   "outputs": [],
   "source": [
    "from mlxtend.classifier import StackingClassifier"
   ]
  },
  {
   "cell_type": "code",
   "execution_count": 146,
   "metadata": {},
   "outputs": [
    {
     "name": "stdout",
     "output_type": "stream",
     "text": [
      "0.8799269120334117\n"
     ]
    }
   ],
   "source": [
    "from sklearn.linear_model import LogisticRegression\n",
    "classifier1 = RandomForestClassifier(n_estimators=200,random_state=0, min_samples_leaf=3 ,min_samples_split=5, criterion='entropy')\n",
    "classifier2 = GradientBoostingClassifier(n_estimators=500, random_state=0, max_depth =7 ,learning_rate=0.05)\n",
    "\n",
    "classifier_list=[classifier1,classifier2]\n",
    "\n",
    "m_classifier=LogisticRegression(random_state=0)\n",
    "\n",
    "# Code starts here\n",
    "sclf = StackingClassifier(classifiers = classifier_list, meta_classifier = m_classifier)\n",
    "sclf.fit(X_train, y_train)\n",
    "s_score = sclf.score(X_test, y_test)\n",
    "print(s_score)"
   ]
  },
  {
   "cell_type": "code",
   "execution_count": 147,
   "metadata": {},
   "outputs": [
    {
     "name": "stdout",
     "output_type": "stream",
     "text": [
      "Training score: 0.91 \n"
     ]
    }
   ],
   "source": [
    "# Scoring the model on train data\n",
    "score_gb_clf = sclf.score(X_train, y_train)\n",
    "print(\"Training score: %.2f \" % score_gb_clf)"
   ]
  },
  {
   "cell_type": "code",
   "execution_count": 148,
   "metadata": {},
   "outputs": [
    {
     "name": "stdout",
     "output_type": "stream",
     "text": [
      "Testing score: 0.88 \n"
     ]
    }
   ],
   "source": [
    "#Scoring the model on test_data\n",
    "score_gb_test = sclf.score(X_test, y_test)\n",
    "print(\"Testing score: %.2f \" % score_gb_test)"
   ]
  },
  {
   "cell_type": "code",
   "execution_count": 149,
   "metadata": {},
   "outputs": [
    {
     "name": "stdout",
     "output_type": "stream",
     "text": [
      "The accuracy score is 0.8799269120334117\n"
     ]
    }
   ],
   "source": [
    "# Test Accuracy and Actual class predictions\n",
    "gb_predictions = sclf.predict(X_test)\n",
    "print('The accuracy score is', accuracy_score(y_test, gb_predictions))"
   ]
  },
  {
   "cell_type": "code",
   "execution_count": 150,
   "metadata": {},
   "outputs": [
    {
     "name": "stdout",
     "output_type": "stream",
     "text": [
      "The ROC-AUC value is 0.7686580670102652\n"
     ]
    }
   ],
   "source": [
    "# Probabilities for each class\n",
    "gb_probs = sclf.predict_proba(X_test)[:, 1]\n",
    "\n",
    "# Calculate roc auc\n",
    "gb_roc_value = roc_auc_score(y_test, gb_probs)\n",
    "print('The ROC-AUC value is',gb_roc_value)"
   ]
  },
  {
   "cell_type": "code",
   "execution_count": 151,
   "metadata": {},
   "outputs": [
    {
     "name": "stdout",
     "output_type": "stream",
     "text": [
      "Confusion Matrix\n",
      "[[12312   503]\n",
      " [ 1337  1172]]\n",
      "\n",
      "\n",
      "Classification Report\n",
      "              precision    recall  f1-score   support\n",
      "\n",
      "           0       0.90      0.96      0.93     12815\n",
      "           1       0.70      0.47      0.56      2509\n",
      "\n",
      "    accuracy                           0.88     15324\n",
      "   macro avg       0.80      0.71      0.75     15324\n",
      "weighted avg       0.87      0.88      0.87     15324\n",
      "\n"
     ]
    }
   ],
   "source": [
    "#Confusion Matrix and Classification Report\n",
    "print('Confusion Matrix')\n",
    "print(confusion_matrix(y_test, gb_predictions))\n",
    "print('')\n",
    "print('')\n",
    "print('Classification Report')\n",
    "print(classification_report(y_test,gb_predictions))"
   ]
  },
  {
   "cell_type": "markdown",
   "metadata": {},
   "source": [
    "# We will use the Stacked Model of Random Forest Classifier with hyperparameter tuning and Gradient Boosting with hyper parameter tuning as the final model"
   ]
  },
  {
   "cell_type": "markdown",
   "metadata": {},
   "source": [
    "# Additional Things that could be explored\n",
    "1. Binning Age into more segments\n",
    "2. Feature Engineering\n",
    "3. Using algorithms of XGBoost, SVM "
   ]
  }
 ],
 "metadata": {
  "kernelspec": {
   "display_name": "Python 3",
   "language": "python",
   "name": "python3"
  },
  "language_info": {
   "codemirror_mode": {
    "name": "ipython",
    "version": 3
   },
   "file_extension": ".py",
   "mimetype": "text/x-python",
   "name": "python",
   "nbconvert_exporter": "python",
   "pygments_lexer": "ipython3",
   "version": "3.7.3"
  }
 },
 "nbformat": 4,
 "nbformat_minor": 2
}
